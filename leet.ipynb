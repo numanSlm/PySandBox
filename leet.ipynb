{
 "cells": [
  {
   "cell_type": "markdown",
   "metadata": {},
   "source": [
    "# 1. Two SUM\n"
   ]
  },
  {
   "cell_type": "code",
   "execution_count": 17,
   "metadata": {},
   "outputs": [
    {
     "name": "stdout",
     "output_type": "stream",
     "text": [
      "Keys: dict_keys([']', '}', ')'])\n",
      "Values: dict_values(['[', '{', '('])\n"
     ]
    }
   ],
   "source": [
    "#dictionary{key:value}\n",
    "dict =  {\n",
    "    \"]\":\"[\",\n",
    "    \"}\":\"{\",\n",
    "    \")\":\"(\"\n",
    "        }\n",
    "print(\"Keys:\",dict.keys())\n",
    "print(\"Values:\",dict.values())"
   ]
  },
  {
   "cell_type": "markdown",
   "metadata": {},
   "source": [
    "#### [Hashing Problems](https://www.techiedelight.com/hashing-in-data-structure/)"
   ]
  },
  {
   "cell_type": "code",
   "execution_count": 1,
   "metadata": {},
   "outputs": [
    {
     "name": "stdout",
     "output_type": "stream",
     "text": [
      "[1, 2]\n"
     ]
    }
   ],
   "source": [
    "#brute force\n",
    "class Solution:\n",
    "    def twoSum(self, nums:'list[int]', target: int) -> 'List[int]':\n",
    "        for i in range (len(nums)):\n",
    "            for j in range (i+1,len(nums)):\n",
    "                if nums[j]==target-nums[i]:\n",
    "                    return[i,j]\n",
    "input_list = [2,8,12,15]\n",
    "ob1 = Solution()\n",
    "print(ob1.twoSum(input_list, 20))"
   ]
  },
  {
   "cell_type": "code",
   "execution_count": 12,
   "metadata": {},
   "outputs": [
    {
     "name": "stdout",
     "output_type": "stream",
     "text": [
      "The elements are at position (1, 3)\n"
     ]
    }
   ],
   "source": [
    "class Solution:\n",
    "    def twoSum(self, nums:'List[int]', target: int) -> 'List[int]':\n",
    "        container = {} #{num:match}\n",
    "        \n",
    "        for i, num in enumerate(nums):\n",
    "            match=target-num   #match is key in dict\n",
    "            if match in container:\n",
    "                r= (container[match], i) # dict_name[key] here key=num(val) and match = index          \n",
    "                return r\n",
    "            else:\n",
    "                container[num] = i #new entry in dict,  dict_name[key]=val\n",
    "                \n",
    "        return\n",
    "def main():\n",
    "    nums = [2,8,12,15]\n",
    "    ob1 = Solution()\n",
    "    print(\"The elements are at position\",ob1.twoSum(nums, 23)) #target=23\n",
    "\n",
    "if __name__==\"__main__\":\n",
    "    main()"
   ]
  },
  {
   "cell_type": "code",
   "execution_count": 4,
   "metadata": {},
   "outputs": [
    {
     "data": {
      "text/plain": [
       "2"
      ]
     },
     "execution_count": 4,
     "metadata": {},
     "output_type": "execute_result"
    }
   ],
   "source": [
    "dct={99:1,88:2,77:3,66:4}\n",
    "dct[88]"
   ]
  },
  {
   "cell_type": "code",
   "execution_count": 76,
   "metadata": {},
   "outputs": [
    {
     "name": "stdout",
     "output_type": "stream",
     "text": [
      "[[0, 0, 0], [0, 0, 0], [0, 0, 0], [0, 0, 0]]\n"
     ]
    }
   ],
   "source": [
    "m=4\n",
    "n=3\n",
    "store=[]\n",
    "#first loop row, 2nd col\n",
    "for _ in range(m):#4rows\n",
    "    x=[]\n",
    "    for _ in range( n):#3cols\n",
    "        x.append(0)\n",
    "    store.append(x)\n",
    "print(store)"
   ]
  },
  {
   "cell_type": "code",
   "execution_count": 78,
   "metadata": {},
   "outputs": [
    {
     "data": {
      "text/plain": [
       "[[0, 0, 0, 0], [0, 0, 0, 0], [0, 0, 0, 0]]"
      ]
     },
     "execution_count": 78,
     "metadata": {},
     "output_type": "execute_result"
    }
   ],
   "source": [
    "stro=\"BAC\"\n",
    "table=[[0 for i in range(len(stro)+1)] for i in range(len(stro))]\n",
    "#1st loop is cols, 2nd is rows\n",
    "table"
   ]
  },
  {
   "cell_type": "markdown",
   "metadata": {},
   "source": [
    "## Longest increasing Subsequence [Edit Dist](https://www.geeksforgeeks.org/edit-distance-dp-5/)"
   ]
  },
  {
   "cell_type": "markdown",
   "metadata": {},
   "source": [
    "str1 = \"geek\", str2 = \"gesek\"\n",
    "Output:  1\n",
    "We can convert str1 into str2 by inserting a 's'.\n",
    "\n",
    "[Levenshtein](https://medium.com/@ethannam/understanding-the-levenshtein-distance-equation-for-beginners-c4285a5604f0)"
   ]
  },
  {
   "cell_type": "code",
   "execution_count": 70,
   "metadata": {
    "scrolled": true
   },
   "outputs": [
    {
     "name": "stdout",
     "output_type": "stream",
     "text": [
      "[[0, 1, 2, 3, 4], [1, 1, 2, 3, 4], [2, 2, 1, 2, 3], [3, 3, 2, 1, 2], [4, 3, 3, 2, 2], [5, 4, 4, 3, 3]]\n"
     ]
    },
    {
     "data": {
      "text/plain": [
       "3"
      ]
     },
     "execution_count": 70,
     "metadata": {},
     "output_type": "execute_result"
    }
   ],
   "source": [
    "def LongestIncSeq(str1,str2):\n",
    "    m=len(str1)\n",
    "    n=len(str2)\n",
    "\n",
    "    LIS=[[0 for _ in range(n+1)]for _ in range (m+1)]\n",
    "    #2nd str for inner con i.e cols\n",
    "    for i in range(m+1):\n",
    "        for j in range(n+1):\n",
    "            #Oth row in table\n",
    "            if i==0:\n",
    "                LIS[i][j]=j\n",
    "            #0th col in table\n",
    "            elif j==0:\n",
    "                LIS[i][j]=i\n",
    "\n",
    "            elif (str1[i-1]==str2[j-1]):\n",
    "                LIS[i][j]=LIS[i-1][j-1]\n",
    "            else:\n",
    "                LIS[i][j]= 1 + min(LIS[i][j-1],LIS[i-1][j],LIS[i-1][j-1])\n",
    "    print(LIS)\n",
    "    return LIS[m][n]\n",
    "\n",
    "str1=\"march\"\n",
    "str2=\"cart\"\n",
    "LongestIncSeq(str1,str2)"
   ]
  },
  {
   "cell_type": "code",
   "execution_count": 53,
   "metadata": {},
   "outputs": [
    {
     "name": "stdout",
     "output_type": "stream",
     "text": [
      "[[0, 0], [0, 0], [0, 0]]\n"
     ]
    }
   ],
   "source": [
    "a=2\n",
    "b=3\n",
    "box=[[0 for _ in range(0,a)] for _ in range(0,b)]#col-rows\n",
    "print(box)"
   ]
  },
  {
   "cell_type": "markdown",
   "metadata": {},
   "source": [
    "# 1143. Longest Common Subsequence"
   ]
  },
  {
   "cell_type": "code",
   "execution_count": 21,
   "metadata": {
    "scrolled": false
   },
   "outputs": [
    {
     "name": "stdout",
     "output_type": "stream",
     "text": [
      "Length of LCS is:  2\n",
      "Value of LCS table is:\n",
      " [[0, 0, 0, 0, 0, 0, 0], [0, 0, 0, 0, 0, 0, 0], [0, 0, 0, 0, 1, 1, 1], [0, 0, 1, 1, 1, 1, 1], [0, 0, 1, 1, 1, 1, 1], [0, 0, 1, 1, 1, 1, 1], [0, 0, 1, 1, 1, 2, 2]]\n"
     ]
    }
   ],
   "source": [
    "class Solution:\n",
    "    def lcs(self, text1: str, text2: str) -> int:\n",
    "        store = [[0 for x in range(len(text2) + 1)]for y in range(len(text1) + 1)]\n",
    "        self.table=store\n",
    "        size_max = 0\n",
    "        for i in range(1, len(text1) + 1):\n",
    "            for j in range(1, len(text2) + 1):\n",
    "                #if char match then\n",
    "                if text1[i - 1] == text2[j - 1]:\n",
    "                    store[i][j] = 1 + store[i - 1][j - 1]#diag ele +1\n",
    "                else:\n",
    "                    store[i][j] = max(store[i - 1][j], store[i][j - 1])# max(left.up)\n",
    "\n",
    "                size_max = max(size_max, store[i][j])\n",
    "        return size_max\n",
    "    \n",
    "    def debuggin(self):\n",
    "        r=self.table\n",
    "        return r\n",
    "def main():    \n",
    "    text1 = \"kitten\"\n",
    "    text2 = \"string\"\n",
    "    ob2=Solution()\n",
    "    print(\"Length of LCS is: \",ob2.lcs(text1,text2)) # last entry of Table\n",
    "    print(\"Value of LCS table is:\\n\",ob2.debuggin())\n",
    "if __name__==\"__main__\":\n",
    "    main()"
   ]
  },
  {
   "cell_type": "markdown",
   "metadata": {},
   "source": [
    "##### [Some DP Problems](https://medium.com/techie-delight/top-10-dynamic-programming-problems-5da486eeb360)"
   ]
  },
  {
   "cell_type": "code",
   "execution_count": 73,
   "metadata": {},
   "outputs": [
    {
     "ename": "NameError",
     "evalue": "name 'S1' is not defined",
     "output_type": "error",
     "traceback": [
      "\u001b[1;31m---------------------------------------------------------------------------\u001b[0m",
      "\u001b[1;31mNameError\u001b[0m                                 Traceback (most recent call last)",
      "\u001b[1;32m<ipython-input-73-13d63f3f23c6>\u001b[0m in \u001b[0;36m<module>\u001b[1;34m\u001b[0m\n\u001b[0;32m     18\u001b[0m \u001b[1;33m\u001b[0m\u001b[0m\n\u001b[0;32m     19\u001b[0m         \u001b[1;31m# Printing the sub sequences\u001b[0m\u001b[1;33m\u001b[0m\u001b[1;33m\u001b[0m\u001b[1;33m\u001b[0m\u001b[0m\n\u001b[1;32m---> 20\u001b[1;33m \u001b[0mprint\u001b[0m\u001b[1;33m(\u001b[0m\u001b[1;34m\"S1 : \"\u001b[0m \u001b[1;33m+\u001b[0m \u001b[0mS1\u001b[0m \u001b[1;33m+\u001b[0m \u001b[1;34m\"\\nS2 : \"\u001b[0m \u001b[1;33m+\u001b[0m \u001b[0mS2\u001b[0m\u001b[1;33m)\u001b[0m\u001b[1;33m\u001b[0m\u001b[1;33m\u001b[0m\u001b[0m\n\u001b[0m\u001b[0;32m     21\u001b[0m \u001b[0mprint\u001b[0m\u001b[1;33m(\u001b[0m\u001b[1;34m\"LCS: \"\u001b[0m \u001b[1;33m+\u001b[0m \u001b[1;34m\"\"\u001b[0m\u001b[1;33m.\u001b[0m\u001b[0mjoin\u001b[0m\u001b[1;33m(\u001b[0m\u001b[0mlcs\u001b[0m\u001b[1;33m)\u001b[0m\u001b[1;33m)\u001b[0m\u001b[1;33m\u001b[0m\u001b[1;33m\u001b[0m\u001b[0m\n",
      "\u001b[1;31mNameError\u001b[0m: name 'S1' is not defined"
     ]
    }
   ],
   "source": [
    " index = L[m][n]\n",
    "  \n",
    "    # Create a character array to store the lcs string \n",
    "    lcs = [\"\"] * (index+1) \n",
    "    lcs[index] = \"\" \n",
    "  \n",
    "    # Start from the right-most-bottom-most corner and \n",
    "    # one by one store characters in lcs[] \n",
    "    i = m \n",
    "    j = n \n",
    "    while i > 0 and j > 0: \n",
    "  \n",
    "        # If current character in X[] and Y are same, then \n",
    "        # current character is part of LCS \n",
    "        if X[i-1] == Y[j-1]: \n",
    "            lcs[index-1] = X[i-1] \n",
    "            i-=1\n",
    "            j-=1\n",
    "            index-=1\n",
    "  \n",
    "        # If not same, then find the larger of two and \n",
    "        # go in the direction of larger value \n",
    "        elif L[i-1][j] > L[i][j-1]: \n",
    "            i-=1\n",
    "        else: \n",
    "            j-=1\n",
    "  \n",
    "    print \"LCS of \" + X + \" and \" + Y + \" is \" + \"\".join(lcs)  \n",
    "  "
   ]
  },
  {
   "cell_type": "code",
   "execution_count": 2,
   "metadata": {},
   "outputs": [
    {
     "name": "stdout",
     "output_type": "stream",
     "text": [
      "{1, 2, 3, 4, 5}\n",
      "{99, 18, 3, 6}\n"
     ]
    },
    {
     "data": {
      "text/plain": [
       "[1, 2, 4, 5, 6, 18, 99]"
      ]
     },
     "execution_count": 2,
     "metadata": {},
     "output_type": "execute_result"
    }
   ],
   "source": [
    "o=[1,2,3,4,5,4]\n",
    "p=[18,6,3,6,99,]\n",
    "\n",
    "print(set(o))\n",
    "print(set(p))\n",
    "#uncommon\n",
    "a=list(sorted(set(o)^set(p)))\n",
    "a"
   ]
  },
  {
   "cell_type": "markdown",
   "metadata": {},
   "source": [
    "# Uncommon elements from 2 lists"
   ]
  },
  {
   "cell_type": "code",
   "execution_count": 31,
   "metadata": {},
   "outputs": [
    {
     "name": "stdout",
     "output_type": "stream",
     "text": [
      "[2, 3, 4, 6, 7, 8]\n"
     ]
    }
   ],
   "source": [
    "class ct:\n",
    "    def maxxer(self,list1,list2):\n",
    "        rez=list(set(list1)^set(list2))\n",
    "        return rez\n",
    "    \n",
    "list1=[1,2,4,7,9]\n",
    "list2=[8,1,9,3,6]\n",
    "\n",
    "obm= ct()\n",
    "print(obm.maxxer(list1,list2))"
   ]
  },
  {
   "cell_type": "markdown",
   "metadata": {},
   "source": [
    "# Delete occurence of 'a' character from a String"
   ]
  },
  {
   "cell_type": "code",
   "execution_count": 38,
   "metadata": {},
   "outputs": [
    {
     "name": "stdout",
     "output_type": "stream",
     "text": [
      "Heo\n"
     ]
    }
   ],
   "source": [
    "#use strip as shown below \n",
    "class remove:\n",
    "    def stringer(self,str1,str2):\n",
    "        res=str1.replace(str2,\"\")\n",
    "        return res\n",
    "str1=\"Hellol\"\n",
    "str2=\"l\"\n",
    "\n",
    "rm=remove()\n",
    "z=rm.stringer(str1,str2)\n",
    "print(z)"
   ]
  },
  {
   "cell_type": "code",
   "execution_count": null,
   "metadata": {},
   "outputs": [],
   "source": []
  },
  {
   "cell_type": "markdown",
   "metadata": {},
   "source": [
    "# Difference Between 2 strings"
   ]
  },
  {
   "cell_type": "code",
   "execution_count": 101,
   "metadata": {},
   "outputs": [
    {
     "name": "stdout",
     "output_type": "stream",
     "text": [
      "lnH\n"
     ]
    }
   ],
   "source": [
    "#Symetric Differnce\n",
    "m=\"Henlo\"\n",
    "n=\"oe\"\n",
    "s=set(m)^set(n)\n",
    "lop=\"\".join(s)\n",
    "print(lop)"
   ]
  },
  {
   "cell_type": "code",
   "execution_count": 3,
   "metadata": {},
   "outputs": [
    {
     "name": "stdout",
     "output_type": "stream",
     "text": [
      "o\n"
     ]
    }
   ],
   "source": [
    "#Intersection\n",
    "foo=\"Henlo\"\n",
    "n=\"om\"\n",
    "s=set(foo)&set(n)\n",
    "intersection=\"\".join(s)\n",
    "print(intersection)"
   ]
  },
  {
   "cell_type": "markdown",
   "metadata": {},
   "source": [
    "# Subset of Remainders"
   ]
  },
  {
   "cell_type": "code",
   "execution_count": 38,
   "metadata": {},
   "outputs": [
    {
     "name": "stdout",
     "output_type": "stream",
     "text": [
      "['ello', 'Hell']\n"
     ]
    }
   ],
   "source": [
    "#cancer\n",
    "class remover:\n",
    "    def stringer(self,str1,str2):\n",
    "        clt=[]\n",
    "        for _ in str1:\n",
    "            for _ in str2:\n",
    "                res=str1.replace(_,\"\")\n",
    "                m=clt.append(res)\n",
    "                \n",
    "            return clt\n",
    "str1=\"Hello\"\n",
    "str2=\"Ho\"\n",
    "rm=remover()\n",
    "z=rm.stringer(str1,str2)\n",
    "\n",
    "print(z)"
   ]
  },
  {
   "cell_type": "code",
   "execution_count": null,
   "metadata": {},
   "outputs": [],
   "source": []
  },
  {
   "cell_type": "markdown",
   "metadata": {},
   "source": [
    "# Uncommon string elements"
   ]
  },
  {
   "cell_type": "code",
   "execution_count": 39,
   "metadata": {},
   "outputs": [
    {
     "name": "stdout",
     "output_type": "stream",
     "text": [
      "oe\n"
     ]
    }
   ],
   "source": [
    "#retard way\n",
    "str1=\"Hello\"\n",
    "str2=\"Hl\"\n",
    "m=len(str1)\n",
    "n=len(str2)\n",
    "def cutter(m,n,str1,str2):\n",
    "    str_1_lower=str1.lower()\n",
    "    str_2_lower=str2.lower()\n",
    "    if  len(str1)>len(str2):\n",
    "        res=set(str_1_lower)-set(str_2_lower)\n",
    "    else:\n",
    "        res=set(str_2_lower)-set(str_1_lower)\n",
    "    return res\n",
    "m=cutter(m,n,str1,str2)\n",
    "print(\"\".join(m))"
   ]
  },
  {
   "cell_type": "code",
   "execution_count": 68,
   "metadata": {},
   "outputs": [
    {
     "name": "stdout",
     "output_type": "stream",
     "text": [
      "maI\n"
     ]
    }
   ],
   "source": [
    "strm=\"Iam\"\n",
    "def Palcheck(strm):\n",
    "    res=strm[::-1]\n",
    "    return res\n",
    "pip=Palcheck(strm)\n",
    "print(pip)\n"
   ]
  },
  {
   "cell_type": "code",
   "execution_count": null,
   "metadata": {},
   "outputs": [],
   "source": []
  },
  {
   "cell_type": "code",
   "execution_count": 106,
   "metadata": {},
   "outputs": [
    {
     "name": "stdout",
     "output_type": "stream",
     "text": [
      "[1, 4, 5, 7, 10]\n",
      "[10, 7, 5, 4, 1]\n",
      "\n",
      "\n",
      "[1, 4, 5, 7, 10]\n",
      "[10, 7, 5, 4, 1]\n"
     ]
    }
   ],
   "source": [
    "#SORT\n",
    "a=[10,5,7,1,4]\n",
    "a.sort()\n",
    "print(a)\n",
    "a.sort(reverse=True)\n",
    "print(a)\n",
    "\n",
    "print(\"\\n\")\n",
    "\n",
    "## Sorted\n",
    "l=[1,18,56,90]\n",
    "print(sorted(a))\n",
    "print(sorted(a,reverse=True))"
   ]
  },
  {
   "cell_type": "markdown",
   "metadata": {},
   "source": [
    "### Sorting Algo in python\n",
    "https://stackabuse.com/sorting-algorithms-in-python/\n",
    "\n",
    "\n",
    "https://www.bigocheatsheet.com/"
   ]
  },
  {
   "cell_type": "markdown",
   "metadata": {},
   "source": [
    "### enumerate over everything"
   ]
  },
  {
   "cell_type": "code",
   "execution_count": 2,
   "metadata": {},
   "outputs": [
    {
     "name": "stdout",
     "output_type": "stream",
     "text": [
      "Element 1 of the list is node\n",
      "0 n\n",
      "1 o\n",
      "2 d\n",
      "3 e\n",
      "Letter count of node is: 4\n",
      "\n",
      "Element 2 of the list is xampp\n",
      "0 x\n",
      "1 a\n",
      "2 m\n",
      "3 p\n",
      "4 p\n",
      "Letter count of xampp is: 5\n",
      "\n",
      "Element 3 of the list is docker\n",
      "0 d\n",
      "1 o\n",
      "2 c\n",
      "3 k\n",
      "4 e\n",
      "5 r\n",
      "Letter count of docker is: 6\n",
      "\n"
     ]
    }
   ],
   "source": [
    "a=[\"node\",\"xampp\",\"docker\"]\n",
    "\n",
    "for i,ele in enumerate(a,1):\n",
    "    print(\"Element {} of the list is {}\".format(i,ele),end=\"\\n\")\n",
    "    \n",
    "    ltr_count=0\n",
    "    for i, ch in enumerate (ele):\n",
    "        print(i,ch,end=\"\\n\")\n",
    "        ltr_count+=1\n",
    "    print(\"Letter count of {} is: {}\".format(ele,ltr_count),end=\"\\n\\n\")"
   ]
  },
  {
   "cell_type": "markdown",
   "metadata": {},
   "source": [
    "### Counter class"
   ]
  },
  {
   "cell_type": "code",
   "execution_count": 52,
   "metadata": {},
   "outputs": [
    {
     "name": "stdout",
     "output_type": "stream",
     "text": [
      "Counter({'mango': 2, 'apple': 1, 'banana': 1})\n",
      "0\n",
      "1\n"
     ]
    }
   ],
   "source": [
    "from collections import Counter\n",
    "cnt=Counter()\n",
    "arr=[\"apple\",\"mango\",\"banana\",\"mango\"]\n",
    "for i in arr:\n",
    "    cnt[i]+=1\n",
    "print(cnt)\n",
    "\n",
    "c=Counter([\"cats\",\"dogs\"])\n",
    "print(c[\"rats\"])\n",
    "print(c[\"cats\"])"
   ]
  },
  {
   "cell_type": "code",
   "execution_count": 75,
   "metadata": {},
   "outputs": [
    {
     "name": "stdout",
     "output_type": "stream",
     "text": [
      "Counter({'c': 5, 'h': 2, 'a': 2, 'k': 2, 'o': 2, 's': 1, 'e': 1, 'r': 1})\n"
     ]
    }
   ],
   "source": [
    "#Table of occurences of all letters\n",
    "cnt=Counter()\n",
    "lst=['hash','cakek','crococc']\n",
    "for i in lst:\n",
    "    for ch in i:\n",
    "        cnt[ch]+=1\n",
    "print(cnt,end=\"\\n\")"
   ]
  },
  {
   "cell_type": "code",
   "execution_count": 21,
   "metadata": {},
   "outputs": [
    {
     "name": "stdout",
     "output_type": "stream",
     "text": [
      "Counter({'h': 2, 'a': 1, 's': 1})\n"
     ]
    }
   ],
   "source": [
    "from collections import Counter\n",
    "cnt=Counter()\n",
    "lst='hash'\n",
    "for i in lst:\n",
    "        cnt[i]+=1\n",
    "print(cnt)"
   ]
  },
  {
   "cell_type": "code",
   "execution_count": 76,
   "metadata": {},
   "outputs": [
    {
     "name": "stdout",
     "output_type": "stream",
     "text": [
      "[('nodes', 1), ('servers', 2), ('clouds', 1)]\n",
      "['nodes', 'clouds']\n"
     ]
    }
   ],
   "source": [
    "arr1=[\"nodes\",\"servers\",\"clouds\",\"servers\"]\n",
    "tracker=list(Counter(arr1).items())\n",
    "print(tracker)#record of occurences\n",
    "clt=[]\n",
    "for item in tracker:\n",
    "    #item[0]=names and item[1]=occurence count\n",
    "    if item[1]==1:\n",
    "        clt.append(item[0])\n",
    "print(clt) #nodes and clouds are unique items   "
   ]
  },
  {
   "cell_type": "markdown",
   "metadata": {},
   "source": [
    "# Uncommon string obj from 2 arrays (LEET)"
   ]
  },
  {
   "cell_type": "code",
   "execution_count": 22,
   "metadata": {},
   "outputs": [
    {
     "name": "stdout",
     "output_type": "stream",
     "text": [
      "['sweet', 'sour']\n"
     ]
    }
   ],
   "source": [
    "class Solution:\n",
    "    def uncommonFromSentences( self,A: str, B: str) -> 'List[str]':\n",
    "        from collections import Counter\n",
    "        array = A.split(\" \") + B.split(\" \")#split with blank space\n",
    "        cnt = list(Counter(array).items())\n",
    "        \n",
    "        answer = [item[0] for item in cnt if item[1] == 1]\n",
    "        return answer\n",
    "A=\"this apple is sweet\"\n",
    "B=\"this apple is sour\"\n",
    "mla=Solution()\n",
    "print(mla.uncommonFromSentences(A,B))"
   ]
  },
  {
   "cell_type": "code",
   "execution_count": null,
   "metadata": {},
   "outputs": [],
   "source": []
  },
  {
   "cell_type": "markdown",
   "metadata": {},
   "source": [
    "# Mars Rover Uncommon Stones"
   ]
  },
  {
   "cell_type": "code",
   "execution_count": 15,
   "metadata": {},
   "outputs": [
    {
     "name": "stdout",
     "output_type": "stream",
     "text": [
      "Max Uncommon Stones : 2\n"
     ]
    }
   ],
   "source": [
    "class sol:\n",
    "    def stones(self,input1,input2,input3=[]):\n",
    "        bag = []\n",
    "        for i in range(1,input1+1):\n",
    "            if i not in input3:\n",
    "                if sum(bag)+i <= input1:\n",
    "                    bag.append(i)\n",
    "        return len(bag)\n",
    "def main():\n",
    "    input1=10 # m size bag, no of stones on mars\n",
    "    input2=3 # n no of earth stones\n",
    "    input3=[1,3,5] # common stones\n",
    "    obj=sol()\n",
    "    print(\"Max Uncommon Stones :\",obj.stones(input1,input2,input3))\n",
    "if __name__==\"__main__\":\n",
    "    main()"
   ]
  },
  {
   "cell_type": "code",
   "execution_count": 18,
   "metadata": {},
   "outputs": [
    {
     "name": "stdout",
     "output_type": "stream",
     "text": [
      "Reversed Number :  21\n"
     ]
    }
   ],
   "source": [
    "n=12\n",
    "rev = 0\n",
    "rem = 0\n",
    "while(n != 0):\n",
    "    rem = n % 10\n",
    "    n = int(n/10)\n",
    "    rev = rev*10 + rem\n",
    "    \n",
    "\n",
    "print(\"Reversed Number : \",rev)"
   ]
  },
  {
   "cell_type": "code",
   "execution_count": 10,
   "metadata": {},
   "outputs": [
    {
     "name": "stdout",
     "output_type": "stream",
     "text": [
      "a is  20 \n",
      "b is  90\n"
     ]
    }
   ],
   "source": [
    "a,b=90,20\n",
    "a,b=b,a\n",
    "print(\"a is \",a,\"\\nb is \",b)"
   ]
  },
  {
   "cell_type": "code",
   "execution_count": 11,
   "metadata": {},
   "outputs": [
    {
     "name": "stdout",
     "output_type": "stream",
     "text": [
      "i m bd\n"
     ]
    }
   ],
   "source": [
    "sr=\"i am bad\"\n",
    "de=\"a\"\n",
    "rez=sr.replace(de,'')\n",
    "print(rez)"
   ]
  },
  {
   "cell_type": "code",
   "execution_count": 15,
   "metadata": {},
   "outputs": [
    {
     "name": "stdout",
     "output_type": "stream",
     "text": [
      "80050\n"
     ]
    }
   ],
   "source": [
    "ring=81151\n",
    "m=str(ring)\n",
    "des=str(1)\n",
    "c=m.replace(des,'0')\n",
    "print(c)"
   ]
  },
  {
   "cell_type": "markdown",
   "metadata": {},
   "source": [
    "## sort with negative integers ***"
   ]
  },
  {
   "cell_type": "code",
   "execution_count": 25,
   "metadata": {},
   "outputs": [
    {
     "name": "stdout",
     "output_type": "stream",
     "text": [
      "[-9.0, -6.0, 0.0, 1.0, 4.0, 7.0, 9.0]\n"
     ]
    }
   ],
   "source": [
    "lsot=['7','1','9','-6','4','0','-9']\n",
    "a=list(map(float,lsot))\n",
    "print(sorted(a))"
   ]
  },
  {
   "cell_type": "markdown",
   "metadata": {},
   "source": [
    "# Marathon TCS"
   ]
  },
  {
   "cell_type": "code",
   "execution_count": 24,
   "metadata": {},
   "outputs": [
    {
     "name": "stdout",
     "output_type": "stream",
     "text": [
      "Enter Distances:\n",
      "42\n",
      "98\n",
      "42.195\n",
      "31.32\n",
      "41\n",
      "39\n",
      "-2\n",
      "q\n",
      "['42', '41', '39']\n"
     ]
    }
   ],
   "source": [
    "def marathon(R):\n",
    "    result=sorted(R,reverse=True)\n",
    "    winn=[]\n",
    "    for i,ele in enumerate(result):\n",
    "        if ele!='42.195':\n",
    "            winn.append(ele)\n",
    "    return(winn[:3])\n",
    "\n",
    "def main():\n",
    "    R=[]\n",
    "    print(\"Enter Distances:\")\n",
    "    num=input()\n",
    "    while (num!='q'):\n",
    "        if (0 < float(num) < 42.95):\n",
    "            R.append(num)\n",
    "        num=input()\n",
    "    print(marathon(R))\n",
    "    \n",
    "if __name__==\"__main__\":\n",
    "    main()"
   ]
  },
  {
   "cell_type": "code",
   "execution_count": 3,
   "metadata": {},
   "outputs": [
    {
     "name": "stdout",
     "output_type": "stream",
     "text": [
      "[42.159, 42.159, 42.159, 39.454, 38.245, 37.456, 18.765, 8.657]\n"
     ]
    },
    {
     "data": {
      "text/plain": [
       "[39.454, 38.245, 37.456]"
      ]
     },
     "execution_count": 3,
     "metadata": {},
     "output_type": "execute_result"
    }
   ],
   "source": [
    "#return top 2 other than finishers\n",
    "def marathon(arr):\n",
    "    m=sorted(arr,reverse=True)\n",
    "    print(m)\n",
    "    winn=[]\n",
    "    for i,j in enumerate(m):\n",
    "        if j!=42.159:\n",
    "            winn.append(j)\n",
    "    return(winn[:3])\n",
    "\n",
    "input_list=[39.454,42.159,37.456,42.159,8.657,42.159,18.765,38.245]\n",
    "marathon(input_list)"
   ]
  },
  {
   "cell_type": "markdown",
   "metadata": {},
   "source": [
    "## Max occurence of char sorted\n"
   ]
  },
  {
   "cell_type": "code",
   "execution_count": 9,
   "metadata": {},
   "outputs": [
    {
     "name": "stdout",
     "output_type": "stream",
     "text": [
      "gargab\n",
      "a\n"
     ]
    }
   ],
   "source": [
    "ASCII_size=256\n",
    "def maxoccurence(string):\n",
    "    count=[0]*ASCII_size\n",
    "    line=sorted(string)\n",
    "    max=-1\n",
    "    c=''\n",
    "    for i in line:\n",
    "        count[ord(i)]+=1\n",
    "        for i in line:\n",
    "            if max < count[ord(i)]:\n",
    "                max=count[ord(i)]\n",
    "                c=i\n",
    "    return c\n",
    "            \n",
    "    \n",
    "    \n",
    "string=str(input())\n",
    "print(maxoccurence(string))"
   ]
  },
  {
   "cell_type": "code",
   "execution_count": 8,
   "metadata": {},
   "outputs": [
    {
     "name": "stdout",
     "output_type": "stream",
     "text": [
      "c\n"
     ]
    }
   ],
   "source": [
    "#using collections\n",
    "from collections import Counter\n",
    "strin=\"cocaiax\"\n",
    "m=Counter(strin).most_common(1)[0][0]\n",
    "print(m)\n",
    "#here m(1)= most \n",
    "# m(3)= three most occuring"
   ]
  },
  {
   "cell_type": "markdown",
   "metadata": {},
   "source": [
    "##### Movie total"
   ]
  },
  {
   "cell_type": "code",
   "execution_count": 1,
   "metadata": {},
   "outputs": [
    {
     "name": "stdout",
     "output_type": "stream",
     "text": [
      "1290\n"
     ]
    }
   ],
   "source": [
    "listm=[100,20,10]\n",
    "listn=[10,12,5]\n",
    "\n",
    "res=[listm[i]*listn[i] for i in range(len(listm))]\n",
    "print(sum(res))"
   ]
  },
  {
   "cell_type": "markdown",
   "metadata": {},
   "source": [
    "### Caesar Cipher"
   ]
  },
  {
   "cell_type": "code",
   "execution_count": 26,
   "metadata": {},
   "outputs": [
    {
     "name": "stdout",
     "output_type": "stream",
     "text": [
      "enter string: All the Best\n",
      "enter shift number: 1\n",
      "original string:  All the Best\n",
      "after encryption:  Bmm uif Cftu\n"
     ]
    }
   ],
   "source": [
    "def encrypt(string, shift):\n",
    " \n",
    "  cipher = ''\n",
    "  for char in string: \n",
    "    if char == ' ':\n",
    "      cipher = cipher + char\n",
    "    elif  char.isupper():\n",
    "      cipher = cipher + chr((ord(char) + shift - 65) % 26 + 65)\n",
    "    else:\n",
    "      cipher = cipher + chr((ord(char) + shift - 97) % 26 + 97)\n",
    "  \n",
    "  return cipher\n",
    " \n",
    "text = input(\"enter string: \")\n",
    "s = int(input(\"enter shift number: \"))\n",
    "print(\"original string: \", text)\n",
    "print(\"after encryption: \", encrypt(text, s))"
   ]
  },
  {
   "cell_type": "code",
   "execution_count": 62,
   "metadata": {},
   "outputs": [
    {
     "name": "stdout",
     "output_type": "stream",
     "text": [
      "1\n",
      "2\n",
      "3\n",
      "4\n",
      "5\n",
      "6\n",
      "7\n",
      "8\n",
      "9\n",
      "[1, 2, 3, 4, 5, 6, 7, 8, 9]\n",
      "2.0\n"
     ]
    }
   ],
   "source": [
    "loop=9\n",
    "\n",
    "lst=[]\n",
    "for i in range(loop):\n",
    "    m=int(input())\n",
    "    lst.append(m)\n",
    "\n",
    "print(lst)\n",
    "for i,ele in enumerate(lst):\n",
    "        sum1=round(lst[0]+lst[1]+lst[2])/3\n",
    "        sum2=round(lst[3]+lst[4]+lst[5])/3\n",
    "        sum3=round(lst[6]+lst[7]+lst[8])/3\n",
    "print(sum1)\n",
    "        "
   ]
  },
  {
   "cell_type": "markdown",
   "metadata": {},
   "source": [
    "## Jewels And Stones"
   ]
  },
  {
   "cell_type": "code",
   "execution_count": 9,
   "metadata": {},
   "outputs": [
    {
     "data": {
      "text/plain": [
       "3"
      ]
     },
     "execution_count": 9,
     "metadata": {},
     "output_type": "execute_result"
    }
   ],
   "source": [
    "class Solution:\n",
    "    def numJewelsInStones(self, Jwl: str, Stone: str) -> int:\n",
    "        result=[]\n",
    "        for i in Stone:\n",
    "            if i in Jwl:\n",
    "                result.append(i)\n",
    "            \n",
    "        return len(result)\n",
    "    \n",
    "Jwl = \"aA\"\n",
    "Stone = \"aAAbbbb\"\n",
    "jewel=Solution()\n",
    "m=jewel.numJewelsInStones(Jwl,Stone)\n",
    "m"
   ]
  },
  {
   "cell_type": "code",
   "execution_count": 1,
   "metadata": {},
   "outputs": [],
   "source": [
    "import array"
   ]
  },
  {
   "cell_type": "markdown",
   "metadata": {},
   "source": [
    "## Search Insert Position [Here](https://leetcode.com/problems/search-insert-position/)"
   ]
  },
  {
   "cell_type": "code",
   "execution_count": 68,
   "metadata": {},
   "outputs": [
    {
     "data": {
      "text/plain": [
       "1"
      ]
     },
     "execution_count": 68,
     "metadata": {},
     "output_type": "execute_result"
    }
   ],
   "source": [
    "class Solution:\n",
    "    def searchInsert(self, nums: \"List[int]\", target: int) -> int:\n",
    "        for i in nums:\n",
    "            if i == target:\n",
    "                gg = nums.index(i)\n",
    "            else:\n",
    "                nums.append(target)\n",
    "        result=sorted(set(nums))\n",
    "        gg=result.index(target)\n",
    "        return (gg)\n",
    "                                                \n",
    "nums=[1,3,5,6]\n",
    "target=2\n",
    "seIN=Solution()\n",
    "seIN.searchInsert(nums,target)"
   ]
  },
  {
   "cell_type": "code",
   "execution_count": 93,
   "metadata": {},
   "outputs": [
    {
     "name": "stdout",
     "output_type": "stream",
     "text": [
      "1\n"
     ]
    }
   ],
   "source": [
    "#one-line approach 0 based\n",
    "import bisect\n",
    "lis=[1,3,5,6]\n",
    "target=2\n",
    "if target in lis:\n",
    "    print(lis.index(target))\n",
    "else:\n",
    "    print(bisect.bisect(lis,target))\n",
    "    #returns rightmostindex to insert ele"
   ]
  },
  {
   "cell_type": "code",
   "execution_count": 77,
   "metadata": {},
   "outputs": [
    {
     "data": {
      "text/plain": [
       "5"
      ]
     },
     "execution_count": 77,
     "metadata": {},
     "output_type": "execute_result"
    }
   ],
   "source": [
    "def searchInsert(nums, target): # works even if there are duplicates 0 BASED\n",
    "    l , r = 0, len(nums)-1\n",
    "    while l <= r:\n",
    "        mid=(l+r)//2\n",
    "        if nums[mid] < target:\n",
    "            l = mid+1\n",
    "        else:\n",
    "            if nums[mid]== target and nums[mid-1]!=target:\n",
    "                return mid\n",
    "            else:\n",
    "                r = mid-1\n",
    "    return l\n",
    "nums=[1,3,5,7,9,11,13,15,17]\n",
    "searchInsert(nums,11)"
   ]
  },
  {
   "cell_type": "markdown",
   "metadata": {},
   "source": [
    "# Running sum of array"
   ]
  },
  {
   "cell_type": "code",
   "execution_count": 13,
   "metadata": {},
   "outputs": [
    {
     "data": {
      "text/plain": [
       "[1, 2, 3, 4]"
      ]
     },
     "execution_count": 13,
     "metadata": {},
     "output_type": "execute_result"
    }
   ],
   "source": [
    "class Solution:\n",
    "    def runningSum(self, nums: 'List[int]') -> 'List[int]':\n",
    "        rez=[]\n",
    "        rez.append(nums[0])\n",
    "        for i in range (1,len(nums)):\n",
    "            rez.append(rez[-1]+nums[i])\n",
    "        return rez     \n",
    "nums=[1,1,1,1]\n",
    "runSum=Solution()\n",
    "runSum.runningSum(nums)"
   ]
  },
  {
   "cell_type": "code",
   "execution_count": 9,
   "metadata": {},
   "outputs": [
    {
     "data": {
      "text/plain": [
       "[1, 2, 3, 4]"
      ]
     },
     "execution_count": 9,
     "metadata": {},
     "output_type": "execute_result"
    }
   ],
   "source": [
    "class Solution:\n",
    "    def runningSum(self, nums: 'List[int]') -> 'List[int]':\n",
    "        rez=[]\n",
    "        total=0\n",
    "        for i in range (len(nums)):\n",
    "            total+=nums[i]\n",
    "            rez.append(total)\n",
    "        return rez\n",
    "   \n",
    "nums=[1,1,1,1]\n",
    "runSum=Solution()\n",
    "runSum.runningSum(nums)"
   ]
  },
  {
   "cell_type": "markdown",
   "metadata": {},
   "source": [
    "### [136](https://leetcode.com/problems/single-number/).Single Number in array"
   ]
  },
  {
   "cell_type": "code",
   "execution_count": 64,
   "metadata": {},
   "outputs": [
    {
     "name": "stdout",
     "output_type": "stream",
     "text": [
      "2 1\n",
      "3\n",
      "3 2\n",
      "1\n",
      "1 3\n",
      "2\n",
      "2 4\n",
      "3\n"
     ]
    },
    {
     "data": {
      "text/plain": [
       "3"
      ]
     },
     "execution_count": 64,
     "metadata": {},
     "output_type": "execute_result"
    }
   ],
   "source": [
    "class Solution:\n",
    "    def singleNumber(self, nums: 'List[int]') -> int:\n",
    "        rez=nums[0]\n",
    "        for i in range(1,len(nums)):\n",
    "            print(rez,i)\n",
    "            rez=rez ^ nums[i]\n",
    "            print(rez)\n",
    "        return rez\n",
    "nums=[2,1,2,3,1]\n",
    "Unique=Solution()\n",
    "Unique.singleNumber(nums)"
   ]
  },
  {
   "cell_type": "code",
   "execution_count": 67,
   "metadata": {},
   "outputs": [
    {
     "data": {
      "text/plain": [
       "3"
      ]
     },
     "execution_count": 67,
     "metadata": {},
     "output_type": "execute_result"
    }
   ],
   "source": [
    "#This approach even works for strings, every element appears twice except 1 only\n",
    "from collections import Counter\n",
    "class Solution:\n",
    "    def singleNumber(self, nums: 'List[int]') -> int:\n",
    "        c=Counter(nums)\n",
    "        for k,i in c.items():\n",
    "            if i<2:\n",
    "                return k\n",
    "nums=[2,1,3,1,2]\n",
    "sngl=Solution()\n",
    "sngl.singleNumber(nums)"
   ]
  },
  {
   "cell_type": "code",
   "execution_count": 5,
   "metadata": {},
   "outputs": [
    {
     "name": "stdout",
     "output_type": "stream",
     "text": [
      "Wall time: 0 ns\n"
     ]
    }
   ],
   "source": [
    "%time"
   ]
  },
  {
   "cell_type": "markdown",
   "metadata": {},
   "source": [
    "### [20](https://leetcode.com/problems/valid-parentheses/).Parenthesis Checking\n"
   ]
  },
  {
   "cell_type": "code",
   "execution_count": 21,
   "metadata": {},
   "outputs": [
    {
     "data": {
      "text/plain": [
       "True"
      ]
     },
     "execution_count": 21,
     "metadata": {},
     "output_type": "execute_result"
    }
   ],
   "source": [
    "#normal 1 kind parenthesis @return  a bool\n",
    "class Solution:\n",
    "    def isValid(self, s):\n",
    "        cnti=0\n",
    "        si=list(s)\n",
    "        for i in si:\n",
    "            if i == \"(\":\n",
    "                cnti+=1\n",
    "            else:\n",
    "                cnti-=1\n",
    "        return cnti==0\n",
    "        \n",
    "s=\"(()())\"                \n",
    "paren=Solution()\n",
    "paren.isValid(s)    "
   ]
  },
  {
   "cell_type": "code",
   "execution_count": 1,
   "metadata": {},
   "outputs": [
    {
     "data": {
      "text/plain": [
       "True"
      ]
     },
     "execution_count": 1,
     "metadata": {},
     "output_type": "execute_result"
    }
   ],
   "source": [
    "#For mixed parenthesis of (,{,[\n",
    "#O(n^2) Solution\n",
    "class Solution():\n",
    "    def dummy(self,s,n):\n",
    "        if n==0 or (n%2!=0):\n",
    "            return False\n",
    "        while '{}' in s or '()' in s or '[]' in s:\n",
    "            s=s.replace('{}','').replace('()','').replace('[]','')\n",
    "        return len(s)==0\n",
    "\n",
    "m=Solution()\n",
    "s=\"[()]\"\n",
    "n=len(s)\n",
    "m.dummy(s,n)"
   ]
  },
  {
   "cell_type": "code",
   "execution_count": 46,
   "metadata": {},
   "outputs": [
    {
     "data": {
      "text/plain": [
       "True"
      ]
     },
     "execution_count": 46,
     "metadata": {},
     "output_type": "execute_result"
    }
   ],
   "source": [
    "#O(n) Solution\n",
    "class Parenthesis():\n",
    "    def validParent(self,s):\n",
    "        stack=[]\n",
    "        opener=['(','[','{']\n",
    "        closer=[')',']','}']\n",
    "        \n",
    "        for ele in s:\n",
    "            if ele in opener:\n",
    "                stack.append(ele)\n",
    "            else:\n",
    "                if len(stack)==0:\n",
    "                    return False\n",
    "                popped=stack.pop()\n",
    "                if opener.index(popped)!=closer.index(ele):\n",
    "                    return False\n",
    "        return len(stack)==0\n",
    "s=\"()[]{}\"\n",
    "Ph=Parenthesis()\n",
    "Ph.validParent(s)"
   ]
  },
  {
   "cell_type": "markdown",
   "metadata": {},
   "source": [
    "## [26](https://leetcode.com/problems/remove-duplicates-from-sorted-array/).In-Place Duplicate array "
   ]
  },
  {
   "cell_type": "code",
   "execution_count": 2,
   "metadata": {},
   "outputs": [
    {
     "data": {
      "text/plain": [
       "(3, [1, 3, 4, 4])"
      ]
     },
     "execution_count": 2,
     "metadata": {},
     "output_type": "execute_result"
    }
   ],
   "source": [
    "class Solution:\n",
    "    def removeDuplicates(self, nums):\n",
    "        p1=0\n",
    "        if len(nums)==0:\n",
    "                return 0\n",
    "        for i in range (1,len(nums)):\n",
    "            if (nums[p1]<nums[i]):\n",
    "                p1+=1\n",
    "                nums[p1]=nums[i]\n",
    "        return p1+1,nums\n",
    "            \n",
    "lst=[1,1,3,4]\n",
    "sot=Solution()\n",
    "sot.removeDuplicates(lst)"
   ]
  },
  {
   "cell_type": "markdown",
   "metadata": {},
   "source": [
    "### [1108](https://leetcode.com/problems/defanging-an-ip-address/).Defanging IP-Address\n"
   ]
  },
  {
   "cell_type": "code",
   "execution_count": 7,
   "metadata": {},
   "outputs": [
    {
     "data": {
      "text/plain": [
       "'127[.]1[.]1[.]1'"
      ]
     },
     "execution_count": 7,
     "metadata": {},
     "output_type": "execute_result"
    }
   ],
   "source": [
    "class Solution:\n",
    "    def defangIPaddr(self, address: str) -> str:\n",
    "        return address.replace(\".\",\"[.]\")\n",
    "address=\"127.1.1.1\"   \n",
    "Ip=Solution()\n",
    "Ip.defangIPaddr(address)"
   ]
  },
  {
   "cell_type": "markdown",
   "metadata": {},
   "source": [
    "## [239](https://leetcode.com/problems/sliding-window-maximum/).Sliding Window of subarray size=k"
   ]
  },
  {
   "cell_type": "markdown",
   "metadata": {},
   "source": [
    "######  Input: arr[] = {1, 2, 3, 1, 4, 5, 2, 3, 6}, K = 3 \n",
    "######  Output: 3 3 4 5 5 5 6"
   ]
  },
  {
   "cell_type": "code",
   "execution_count": 42,
   "metadata": {},
   "outputs": [
    {
     "data": {
      "text/plain": [
       "[3, 3, 4, 5, 5, 5, 6]"
      ]
     },
     "execution_count": 42,
     "metadata": {},
     "output_type": "execute_result"
    }
   ],
   "source": [
    "#Brute force simple list Comp O(n*k) \n",
    "arr=[1, 2, 3, 1, 4, 5, 2, 3, 6]\n",
    "res=[max(arr[i:i+k]) for i in range (len(arr)-k+1)]\n",
    "res"
   ]
  },
  {
   "cell_type": "code",
   "execution_count": 3,
   "metadata": {},
   "outputs": [
    {
     "data": {
      "text/plain": [
       "[]"
      ]
     },
     "execution_count": 3,
     "metadata": {},
     "output_type": "execute_result"
    }
   ],
   "source": [
    "# Using Deque O(n)\n",
    "class Solution():\n",
    "    def Dm(self,arr,k):\n",
    "        rez=[]\n",
    "        pass\n",
    "        return rez\n",
    "\n",
    "arr=[1, 2, 3, 1, 4, 5, 2, 3, 6]\n",
    "k=3\n",
    "SlideIn=Solution()\n",
    "SlideIn.Dm(arr,k)"
   ]
  },
  {
   "cell_type": "markdown",
   "metadata": {},
   "source": [
    "### TCS Missing Coin"
   ]
  },
  {
   "cell_type": "markdown",
   "metadata": {},
   "source": [
    "##### [Question](https://imgur.com/a/4LzSgl2)"
   ]
  },
  {
   "cell_type": "code",
   "execution_count": 3,
   "metadata": {},
   "outputs": [
    {
     "name": "stdout",
     "output_type": "stream",
     "text": [
      "8\n",
      "5 7 2 7 5 2 5\n",
      "Counter({5: 3, 7: 2, 2: 2})\n",
      "Missing coins:  [5]\n",
      "Present coins:  [7, 2]\n"
     ]
    }
   ],
   "source": [
    "n=int(input())\n",
    "m=[int(i) for i in input().strip().split()][:n]\n",
    "from collections import Counter\n",
    "cnt=Counter(m)\n",
    "print(cnt)\n",
    "miss=[]\n",
    "present=[]\n",
    "for k,i in cnt.items():\n",
    "    if (i%2)!=0:\n",
    "        miss.append(k)\n",
    "    else:\n",
    "        present.append(k)\n",
    "        \n",
    "print(\"Missing coins: \",miss)\n",
    "print(\"Present coins: \",present)"
   ]
  },
  {
   "cell_type": "markdown",
   "metadata": {},
   "source": [
    "### Nth Term of mixed Series"
   ]
  },
  {
   "cell_type": "markdown",
   "metadata": {},
   "source": [
    "#####  Series: 4,9,7,12,10,15,13, .....\n",
    "#####  IP: 4 (start ele)\n",
    "#####  n: 5 (nth term)\n",
    "##### O/P: 10"
   ]
  },
  {
   "cell_type": "code",
   "execution_count": null,
   "metadata": {},
   "outputs": [],
   "source": [
    "pass"
   ]
  },
  {
   "cell_type": "markdown",
   "metadata": {},
   "source": [
    "### [215](https://leetcode.com/problems/kth-largest-element-in-an-array/). Kth largest element with repeating digits "
   ]
  },
  {
   "cell_type": "code",
   "execution_count": 4,
   "metadata": {},
   "outputs": [
    {
     "data": {
      "text/plain": [
       "5"
      ]
     },
     "execution_count": 4,
     "metadata": {},
     "output_type": "execute_result"
    }
   ],
   "source": [
    "class Solution:\n",
    "    def findKthLargest(self, nums: 'List[int]', k:int) -> int:\n",
    "        rez=sorted(nums,reverse=True)\n",
    "        return rez[k-1]\n",
    "nums=[1, 2, 2, 3, 3, 4, 5, 5, 6]\n",
    "\n",
    "kth=Solution()\n",
    "kth.findKthLargest(nums,2)"
   ]
  },
  {
   "cell_type": "markdown",
   "metadata": {},
   "source": [
    "#### [Microsoft OTS QnA](https://leetcode.com/discuss/interview-question/398023/Microsoft-Online-Assessment-Questions)"
   ]
  },
  {
   "cell_type": "markdown",
   "metadata": {},
   "source": [
    "### [1572](https://leetcode.com/problems/matrix-diagonal-sum/). Sum of diag in Matrix"
   ]
  },
  {
   "cell_type": "code",
   "execution_count": 10,
   "metadata": {},
   "outputs": [
    {
     "data": {
      "text/plain": [
       "25"
      ]
     },
     "execution_count": 10,
     "metadata": {},
     "output_type": "execute_result"
    }
   ],
   "source": [
    "class Solution:\n",
    "    def diagonalSum(self, mat: 'List[List[int]]') -> int:\n",
    "        sumd1,sumd2=0,0\n",
    "        mid=int((len(mat)-1)/2)\n",
    "        for i in range (len(mat)):\n",
    "            sumd1+=mat[i][i]\n",
    "            sumd2+=mat[i][(len(mat))-1-i]\n",
    "        if (len(mat))%2!=0:\n",
    "            return(sumd1+sumd2-(mat[mid][mid]))\n",
    "        return(sumd1+sumd2)\n",
    "mat=[\n",
    "                [1,2,3],\n",
    "              [4,5,6],\n",
    "              [7,8,9]    \n",
    "]\n",
    "\n",
    "obm=Solution()\n",
    "obm.diagonalSum(mat)"
   ]
  },
  {
   "cell_type": "markdown",
   "metadata": {},
   "source": [
    "### [GFG](https://www.geeksforgeeks.org/find-smallest-number-whose-digits-multiply-given-number-n/) Smallest factor problem "
   ]
  },
  {
   "cell_type": "code",
   "execution_count": 10,
   "metadata": {},
   "outputs": [
    {
     "name": "stdout",
     "output_type": "stream",
     "text": [
      "36 % 9\n",
      "4.0 % 4\n",
      "49\n"
     ]
    }
   ],
   "source": [
    "n=36\n",
    "res = []\n",
    "if n < 10: \n",
    "    print (n+10) \n",
    "for i in range(9,1,-1): \n",
    "    while n % i == 0:\n",
    "        print(n,\"%\",i)\n",
    "        n = n / i \n",
    "        res.append(i) \n",
    "if n > 10: \n",
    "    print (\"Not Possible\")        \n",
    "n = res[len(res)-1] \n",
    "for i in range(len(res)-2,-1,-1): \n",
    "    n = 10 * n + res[i] \n",
    "print (n)"
   ]
  },
  {
   "cell_type": "code",
   "execution_count": 39,
   "metadata": {},
   "outputs": [
    {
     "name": "stdout",
     "output_type": "stream",
     "text": [
      "94\n",
      "123\n"
     ]
    }
   ],
   "source": [
    "l0=[9,4]\n",
    "m=''.join([str(i) for i in l])\n",
    "print(m)\n",
    "\n",
    "l1=[1,2,3]\n",
    "n=''.join(map(str,s))\n",
    "print(n)"
   ]
  },
  {
   "cell_type": "code",
   "execution_count": 42,
   "metadata": {},
   "outputs": [
    {
     "name": "stdout",
     "output_type": "stream",
     "text": [
      "36 % 9\n",
      "4.0 % 4\n",
      "49\n"
     ]
    }
   ],
   "source": [
    "n=36\n",
    "res = []\n",
    "if n < 10: \n",
    "    print (n+10) \n",
    "for i in range(9,1,-1): \n",
    "    while n % i == 0:\n",
    "        print(n,\"%\",i)\n",
    "        n = n / i \n",
    "        res.append(i) \n",
    "if n > 10: \n",
    "    print (\"Not Possible\")\n",
    "m=''.join(map(str,res))\n",
    "print(m[::-1])"
   ]
  },
  {
   "cell_type": "markdown",
   "metadata": {},
   "source": [
    "### [287](https://leetcode.com/problems/find-the-duplicate-number/). Find the Duplicate Number"
   ]
  },
  {
   "cell_type": "code",
   "execution_count": 47,
   "metadata": {},
   "outputs": [
    {
     "name": "stdout",
     "output_type": "stream",
     "text": [
      "Counter({'h': 2, 'a': 1, 's': 1})\n",
      "['h']\n"
     ]
    }
   ],
   "source": [
    "from collections import Counter\n",
    "cnt=Counter()\n",
    "lst='hash'\n",
    "rez=[]\n",
    "for i in lst:\n",
    "    cnt[i]+=1\n",
    "    if cnt[i]>=2:\n",
    "        rez.append(i)\n",
    "\n",
    "print(cnt)\n",
    "print(rez)"
   ]
  },
  {
   "cell_type": "code",
   "execution_count": 56,
   "metadata": {},
   "outputs": [
    {
     "name": "stdout",
     "output_type": "stream",
     "text": [
      "4 2 "
     ]
    }
   ],
   "source": [
    "#All duplicates\n",
    "from collections import Counter\n",
    "A= [4, 3, 6, 5, 2, 4,2]\n",
    "cnt=Counter(A)\n",
    "dup=set(A)\n",
    "rez=[]\n",
    "for ele,cont in cnt.items():\n",
    "    if cont>1:\n",
    "        rez.append(ele)\n",
    "for i in range(len(rez)):\n",
    "    print(rez[i],end=' ')"
   ]
  },
  {
   "cell_type": "code",
   "execution_count": 59,
   "metadata": {},
   "outputs": [
    {
     "data": {
      "text/plain": [
       "2"
      ]
     },
     "execution_count": 59,
     "metadata": {},
     "output_type": "execute_result"
    }
   ],
   "source": [
    "#Only 1 duplicate\n",
    "class Solution:\n",
    "    def findDuplicate(self, nums:'List[int]') -> int:\n",
    "        from collections import Counter\n",
    "        cnt=Counter(nums)\n",
    "        for i,ele in cnt.items():\n",
    "            if ele>=2:\n",
    "                return i\n",
    "nums=[1,2,4,3,2]\n",
    "Solution().findDuplicate(nums)"
   ]
  },
  {
   "cell_type": "markdown",
   "metadata": {},
   "source": [
    "### [Close Candy cnt Predictor](https://www.hackerrank.com/contests/infinity15/challenges/candy-count-1)"
   ]
  },
  {
   "cell_type": "code",
   "execution_count": 79,
   "metadata": {},
   "outputs": [
    {
     "name": "stdout",
     "output_type": "stream",
     "text": [
      "(98, 'kil')\n"
     ]
    }
   ],
   "source": [
    "# Find closest Prediction\n",
    "def candyCnt(candyAmt,ppl,pred):\n",
    "    Odic=sorted(pred.keys())\n",
    "    low=0\n",
    "    mindiff=float('inf')\n",
    "    high=len(Odic)-1\n",
    "    closest_num=None\n",
    "    \n",
    "    #edge case\n",
    "    if len(Odic)==0:\n",
    "        return 0\n",
    "    if len(Odic)==1:\n",
    "        return list(pred)[0]\n",
    "    \n",
    "    \n",
    "    #base condition for the loop\n",
    "    while low<=high:\n",
    "        mid=(low+high)//2\n",
    "        \n",
    "        #bound check for right\n",
    "        if (mid+1)<len(Odic):\n",
    "            mindiff_right=abs(Odic[mid+1]-candyAmt)\n",
    "        #bound check for left\n",
    "        if mid>0:\n",
    "            mindiff_left=abs(Odic[mid-1]-candyAmt)\n",
    "        \n",
    "        #minright calc  \n",
    "        if mindiff_right<mindiff:\n",
    "            mindiff=mindiff_right\n",
    "            closest_num=Odic[mid+1]\n",
    "        #minleft calc    \n",
    "        if mindiff_left<mindiff:\n",
    "            mindiff=mindiff_left\n",
    "            closest_num=Odic[mid-1]\n",
    "        \n",
    "        #Binary mid updation\n",
    "        if Odic[mid]>candyAmt:\n",
    "            high=mid-1\n",
    "        elif Odic[mid]<candyAmt:\n",
    "            low=mid+1\n",
    "        else:\n",
    "            return Odic[mid]\n",
    "    final=closest_num\n",
    "    m=pred[final]\n",
    "    return (final,m)\n",
    "    \n",
    "    \n",
    "    \n",
    "candyAmt=100\n",
    "ppl=5\n",
    "pred={98:'kil',1:'Gon',9:'Zoe',10:'Noa',9:'El'}\n",
    "GINLE=candyCnt(candyAmt,ppl,pred)\n",
    "print(GINLE)"
   ]
  },
  {
   "cell_type": "code",
   "execution_count": 128,
   "metadata": {},
   "outputs": [
    {
     "data": {
      "text/plain": [
       "'Bi'"
      ]
     },
     "execution_count": 128,
     "metadata": {},
     "output_type": "execute_result"
    }
   ],
   "source": [
    "# Find closest Prediction\n",
    "def candyCnt(candyAmt,ppl,pred):\n",
    "    Odic=sorted(pred.values())\n",
    "    low=0\n",
    "    mindiff=float('inf')\n",
    "    high=len(Odic)-1\n",
    "    closest_num=None\n",
    "    \n",
    "    #edge case\n",
    "    if len(Odic)==0:\n",
    "        return (\"No One\")\n",
    "    if len(Odic)==1:\n",
    "        return list(pred)[0]\n",
    "    \n",
    "    \n",
    "    #base condition for the loop\n",
    "    while low<=high:\n",
    "        mid=(low+high)//2\n",
    "        \n",
    "        #bound check for right\n",
    "        if (mid+1)<len(Odic):\n",
    "            mindiff_right=abs(Odic[mid+1]-candyAmt)\n",
    "        #bound check for left\n",
    "        if mid>0:\n",
    "            mindiff_left=abs(Odic[mid-1]-candyAmt)\n",
    "        \n",
    "        #minright calc  \n",
    "        if mindiff_right<mindiff:\n",
    "            mindiff=mindiff_right\n",
    "            closest_num=Odic[mid+1]\n",
    "        #minleft calc    \n",
    "        if mindiff_left<mindiff:\n",
    "            mindiff=mindiff_left\n",
    "            closest_num=Odic[mid-1]\n",
    "        \n",
    "        #Binary mid updation\n",
    "        if Odic[mid]>candyAmt:\n",
    "            high=mid-1\n",
    "        elif Odic[mid]<candyAmt:\n",
    "            low=mid+1\n",
    "        else:\n",
    "            return Odic[mid]\n",
    "    final=closest_num #Closest val \n",
    "    #print(mindiff)\n",
    "    all_mems=[]\n",
    "    for i in Odic:\n",
    "        if abs(i-candyAmt)==mindiff:\n",
    "            all_mems.append(i)\n",
    "    #print(all_mems)\n",
    "    found=[]\n",
    "    for i in all_mems:\n",
    "        for k,v in pred.items():\n",
    "            if i==v:\n",
    "                found.append(k)\n",
    "    submit=' '.join(found)      \n",
    "    return submit\n",
    "candyAmt=100\n",
    "ppl=5\n",
    "pred={'El': 98, 'Gon': 1, 'Zoe': 9, 'Noa': 10, 'Rin':101}\n",
    "#pred={'Bi':90}\n",
    "\n",
    "candyCnt(candyAmt,ppl,pred)\n"
   ]
  },
  {
   "cell_type": "code",
   "execution_count": null,
   "metadata": {},
   "outputs": [],
   "source": []
  },
  {
   "cell_type": "code",
   "execution_count": 73,
   "metadata": {},
   "outputs": [
    {
     "name": "stdout",
     "output_type": "stream",
     "text": [
      "Enter targ val98\n",
      "['El', 'Rin']\n"
     ]
    }
   ],
   "source": [
    "pred=\n",
    "targ=int(input(\"Enter targ val\"))\n",
    "stck=[]\n",
    "for k,v in pred.items():\n",
    "    if v==targ:\n",
    "        stck.append(k)\n",
    "print(stck)"
   ]
  },
  {
   "cell_type": "markdown",
   "metadata": {},
   "source": [
    "### Find closest number , even target too"
   ]
  },
  {
   "cell_type": "code",
   "execution_count": 42,
   "metadata": {},
   "outputs": [
    {
     "name": "stdout",
     "output_type": "stream",
     "text": [
      "Range: 6\n",
      "\n",
      "Enter the numbers : 6 7 2 5 19 21 1 0 \n",
      "2\n"
     ]
    }
   ],
   "source": [
    "def find_closest_num(A, target):\n",
    "    min_diff = float(\"inf\")#inifinity\n",
    "    low = 0\n",
    "    high = len(A) - 1\n",
    "    closest_num = None\n",
    "\n",
    "    # Edge cases for empty list of list\n",
    "    # with only one element:\n",
    "    if len(A) == 0:\n",
    "        return None\n",
    "    if len(A) == 1:\n",
    "        return A[0]\n",
    "    if len(A)==2:\n",
    "        if abs(A[0]-target)>abs(A[1]-target):\n",
    "            return A[1]\n",
    "        else:\n",
    "            return A[0]\n",
    "\n",
    "    while low <= high:\n",
    "        mid = (low + high)//2\n",
    "\n",
    "        # Ensure you do not read beyond the bounds\n",
    "        # of the list.\n",
    "        if mid+1 < len(A):\n",
    "            min_diff_right = abs(A[mid + 1] - target)\n",
    "        if mid > 0:\n",
    "            min_diff_left = abs(A[mid - 1] - target)\n",
    "\n",
    "        # Check if the absolute value between left\n",
    "        # and right elements are smaller than any\n",
    "        # seen prior.\n",
    "        if min_diff_left < min_diff:\n",
    "            min_diff = min_diff_left\n",
    "            closest_num = A[mid - 1]\n",
    "\n",
    "        if min_diff_right < min_diff:\n",
    "            min_diff = min_diff_right\n",
    "            closest_num = A[mid + 1]\n",
    "\n",
    "        # Move the mid-point appropriately as is done\n",
    "        # via binary search.\n",
    "        if A[mid] < target:\n",
    "            low = mid + 1\n",
    "        elif A[mid] > target:\n",
    "            high = mid - 1\n",
    "        # If the element itself is the target, the closest\n",
    "        # number to it is itself. Return the number.\n",
    "        else:\n",
    "            return A[mid]\n",
    "    return closest_num\n",
    "m=int(input(\"Range: \"))\n",
    "A = list(map(int,input(\"\\nEnter the numbers : \").strip().split()))[:m] #get top n items \n",
    "y = find_closest_num(A, 3)\n",
    "print(y)"
   ]
  },
  {
   "cell_type": "code",
   "execution_count": 43,
   "metadata": {},
   "outputs": [
    {
     "data": {
      "text/plain": [
       "(100, 'Noa')"
      ]
     },
     "execution_count": 43,
     "metadata": {},
     "output_type": "execute_result"
    }
   ],
   "source": [
    "# Exact search of Candy Holder via Bin Search(returns index)\n",
    "# find the index of the key, then return the key:val pair\n",
    "def candyCnt(candyAmt,ppl,pred):\n",
    "    Odic=sorted(pred.keys())\n",
    "    low=0\n",
    "    high=len(Odic)-1\n",
    "    rez=Search(Odic,low,high,candyAmt)#returns index i.e 4\n",
    "    final=list(pred.items())[rez-1]\n",
    "    return final\n",
    "def Search(Odic,low,high,candyAmt):\n",
    "    if high>=low:\n",
    "        mid=(low+high)//2\n",
    "        if Odic[mid]==candyAmt:\n",
    "            return mid\n",
    "        elif Odic[mid]>candyAmt:\n",
    "            return Search(Odic,low,mid-1,candyAmt)\n",
    "        else:\n",
    "            return Search(Odic,mid+1,high,candyAmt)\n",
    "    else:\n",
    "        return -1\n",
    "        \n",
    "    \n",
    "candyAmt=100\n",
    "ppl=5\n",
    "pred={98:'kil',1:'Gon',100:'Noa',45:'El'}\n",
    "candyCnt(candyAmt,ppl,pred)\n"
   ]
  },
  {
   "cell_type": "code",
   "execution_count": 44,
   "metadata": {},
   "outputs": [
    {
     "data": {
      "text/plain": [
       "'Noa'"
      ]
     },
     "execution_count": 44,
     "metadata": {},
     "output_type": "execute_result"
    }
   ],
   "source": [
    "from collections import OrderedDict\n",
    "rez=99\n",
    "pred={96:'kil',1:'Gon',91:'Zoe',99:'Noa',9:'El'}\n",
    "ODI=OrderedDict(sorted(pred.items()))\n",
    "ODI[rez]"
   ]
  },
  {
   "cell_type": "markdown",
   "metadata": {},
   "source": [
    "### [XOR](https://florian.github.io/xor-trick/)  find missin Num "
   ]
  },
  {
   "cell_type": "markdown",
   "metadata": {},
   "source": [
    "given an arr of 1 to n-1 int find missin num"
   ]
  },
  {
   "cell_type": "code",
   "execution_count": 25,
   "metadata": {},
   "outputs": [
    {
     "data": {
      "text/plain": [
       "4"
      ]
     },
     "execution_count": 25,
     "metadata": {},
     "output_type": "execute_result"
    }
   ],
   "source": [
    "def findNum(A,n):\n",
    "    rez=0\n",
    "    # ^ with range of n\n",
    "    for i in range(1,n+1):\n",
    "        rez^=i\n",
    "    #^ with A ele\n",
    "    for m in A:\n",
    "        rez^=m\n",
    "    return rez\n",
    "A=[1,2,3,5,6]\n",
    "n=len(A)+1 #to allocate missing ele\n",
    "findNum(A,n)"
   ]
  },
  {
   "cell_type": "code",
   "execution_count": 23,
   "metadata": {},
   "outputs": [
    {
     "data": {
      "text/plain": [
       "4"
      ]
     },
     "execution_count": 23,
     "metadata": {},
     "output_type": "execute_result"
    }
   ],
   "source": [
    "def finNum(A,n):\n",
    "    ad=sum(A)#17\n",
    "    tots=(n*(n+1))//2 #21\n",
    "    return tots-ad\n",
    "    \n",
    "A=[1,2,3,5,6]\n",
    "n=len(A)+1\n",
    "finNum(A,n)"
   ]
  },
  {
   "cell_type": "markdown",
   "metadata": {},
   "source": [
    "# Linked List [Here](https://www.geeksforgeeks.org/data-structures/linked-list/)"
   ]
  },
  {
   "cell_type": "markdown",
   "metadata": {},
   "source": [
    "#Linked list\n",
    "class node:\n",
    "    def __init__(self,data):\n",
    "    self.data=data\n",
    "    self.next=None\n",
    "class linkedlist:\n",
    "    def __init__(self):\n",
    "    self.head=None\n",
    "    "
   ]
  },
  {
   "cell_type": "code",
   "execution_count": 21,
   "metadata": {},
   "outputs": [
    {
     "name": "stdout",
     "output_type": "stream",
     "text": [
      "9\n",
      "8\n",
      "7\n"
     ]
    }
   ],
   "source": [
    "#Linked list CREATE AND INSERT\n",
    "\n",
    "class node():\n",
    "    def __init__(self,data):\n",
    "        self.data=data\n",
    "        self.next=None\n",
    "        \n",
    "class linkedlist():\n",
    "    def __init__(self):\n",
    "        self.head=None\n",
    "    def printList(self):\n",
    "        temp=self.head\n",
    "        while(temp):\n",
    "            print(temp.data)\n",
    "            temp=temp.next\n",
    "\n",
    "ll=linkedlist()\n",
    "ll.head=node(9)\n",
    "second=node(8)\n",
    "third=node(7)\n",
    "\n",
    "ll.head.next=second\n",
    "second.next=third\n",
    "ll.printList()"
   ]
  },
  {
   "cell_type": "code",
   "execution_count": null,
   "metadata": {},
   "outputs": [],
   "source": []
  }
 ],
 "metadata": {
  "kernelspec": {
   "display_name": "Python 3",
   "language": "python",
   "name": "python3"
  },
  "language_info": {
   "codemirror_mode": {
    "name": "ipython",
    "version": 3
   },
   "file_extension": ".py",
   "mimetype": "text/x-python",
   "name": "python",
   "nbconvert_exporter": "python",
   "pygments_lexer": "ipython3",
   "version": "3.8.5"
  }
 },
 "nbformat": 4,
 "nbformat_minor": 4
}
