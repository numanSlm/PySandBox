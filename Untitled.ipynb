{
 "cells": [
  {
   "cell_type": "code",
   "execution_count": 52,
   "id": "4d2ccc52-bc78-4f5e-9476-1f4c71660a11",
   "metadata": {},
   "outputs": [
    {
     "name": "stdout",
     "output_type": "stream",
     "text": [
      "[-1, 1, 2, 3, 4, -1, 6, -1, -1, 9]\n"
     ]
    }
   ],
   "source": [
    "arr = [-1, -1, 6, 1, 9, 3, 2, -1, 4, -1]\n",
    "#arr={19, 7, 0, 3, 18, 15, 12, 6, 1, 8,11, 10, 9, 5, 13, 16, 2, 14, 17, 4}\n",
    "m=list(range(len(arr)))\n",
    "\n",
    "for i in range(len(arr)):\n",
    "    if i not in arr:\n",
    "        m[i]=-1\n",
    "print(m)"
   ]
  },
  {
   "cell_type": "code",
   "execution_count": 11,
   "id": "2589f4d1-8736-4c3f-9500-48a7042ce3ce",
   "metadata": {},
   "outputs": [
    {
     "name": "stdout",
     "output_type": "stream",
     "text": [
      "[-1, 0, 1]\n",
      "None\n"
     ]
    }
   ],
   "source": [
    "def createList(r1, r2):\n",
    "    m=list(range(r1, r2+1))\n",
    "    print(m)\n",
    "    return \n",
    "# Driver Code\n",
    "r1, r2 = -1, 1\n",
    "print(createList(r1, r2))"
   ]
  },
  {
   "cell_type": "code",
   "execution_count": 50,
   "id": "fd653933-9ba0-4b0c-9ed3-e2e02856982e",
   "metadata": {},
   "outputs": [
    {
     "name": "stdout",
     "output_type": "stream",
     "text": [
      "{1, 2, 3, 4, 6, 9, -1}\n"
     ]
    }
   ],
   "source": [
    "A=[-1, -1, 6, 1, 9, 3, 2, -1, 4, -1]\n",
    "s = set()\n",
    "# Storing all the values in the Set\n",
    "for i in range(len(A)):\n",
    "  s.add(A[i])\n",
    "print(s)\n"
   ]
  },
  {
   "cell_type": "code",
   "execution_count": null,
   "id": "51caa85b-f88f-422c-ad17-dd231bab6b4e",
   "metadata": {},
   "outputs": [],
   "source": []
  }
 ],
 "metadata": {
  "kernelspec": {
   "display_name": "Python 3 (ipykernel)",
   "language": "python",
   "name": "python3"
  },
  "language_info": {
   "codemirror_mode": {
    "name": "ipython",
    "version": 3
   },
   "file_extension": ".py",
   "mimetype": "text/x-python",
   "name": "python",
   "nbconvert_exporter": "python",
   "pygments_lexer": "ipython3",
   "version": "3.10.2"
  }
 },
 "nbformat": 4,
 "nbformat_minor": 5
}
