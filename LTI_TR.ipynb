{
 "cells": [
  {
   "cell_type": "markdown",
   "metadata": {},
   "source": [
    "# Day 1"
   ]
  },
  {
   "cell_type": "code",
   "execution_count": 6,
   "metadata": {},
   "outputs": [
    {
     "name": "stdout",
     "output_type": "stream",
     "text": [
      "Pyhton is ez\n",
      "Enter estimate: 6\n",
      "Incorrect Guess, Correct length is 12\n"
     ]
    }
   ],
   "source": [
    "s=\"Pyhton is ez\"\n",
    "print(s)\n",
    "n=int(input(\"Enter estimate: \"))\n",
    "if (len(s)==n):\n",
    "    print('Correct Guess')\n",
    "else:\n",
    "    print('Incorrect Guess, Correct length is', len(s))"
   ]
  },
  {
   "cell_type": "code",
   "execution_count": 9,
   "metadata": {},
   "outputs": [
    {
     "name": "stdout",
     "output_type": "stream",
     "text": [
      "Enter your substringbrown\n",
      "The substring is at position:  10\n"
     ]
    }
   ],
   "source": [
    "m='The quick brown fox jumps over the lazy dog'\n",
    "su=input('Enter your substring')\n",
    "print('The substring is at position: ',m.find(su))"
   ]
  },
  {
   "cell_type": "markdown",
   "metadata": {},
   "source": [
    "### Palindrome"
   ]
  },
  {
   "cell_type": "code",
   "execution_count": 65,
   "metadata": {},
   "outputs": [
    {
     "name": "stdout",
     "output_type": "stream",
     "text": [
      "Enter Your String: was it a rat i saw\n",
      "Palindrome\n"
     ]
    }
   ],
   "source": [
    "str1=input(\"Enter Your String: \")\n",
    "a=str1.replace(\" \",\"\")\n",
    "if a.lower()==a.lower()[::-1]:\n",
    "    print(\"Palindrome\")\n",
    "else:\n",
    "    print(\"Not a Palindrome\")"
   ]
  },
  {
   "cell_type": "markdown",
   "metadata": {},
   "source": [
    "### Age Check"
   ]
  },
  {
   "cell_type": "code",
   "execution_count": 62,
   "metadata": {},
   "outputs": [
    {
     "name": "stdout",
     "output_type": "stream",
     "text": [
      "Enter Age: 19\n",
      "Enter Income : 0\n",
      "Invalid Income\n"
     ]
    }
   ],
   "source": [
    "def CheckMyTax(n):\n",
    "    inc=int(input(\"Enter Income : \"))\n",
    "    if(n<=60) and (inc >=1 and inc<=250000):\n",
    "        print(\"The Tax Amount is 0 % Tax\")\n",
    "    elif (n<=60) and (inc>500000):\n",
    "        print(\"The Tax Amount is 20 % Tax\")\n",
    "    elif (n<=60) and (inc>1000000):\n",
    "        print(\"The Tax Amount is 30 % Tax\")\n",
    "    elif (n>60 and n<=80) and (inc<=300000):\n",
    "        print(\"The Tax Amount is 0 % Tax\")\n",
    "        \n",
    "    elif (n>60 and n<=80) and (inc>300000):\n",
    "        print(\"The Tax Amount is 10 % Tax\")\n",
    "    elif (n>60 and n<=80) and (inc>500000):\n",
    "        print(\"The Tax Amount is 20 % Tax\")\n",
    "    elif (n>60 and n<=80) and (inc<=1000000):\n",
    "        print(\"The Tax Amount is 30 % Tax\")\n",
    "    else:\n",
    "        print(\"Invalid Income\")\n",
    "        \n",
    "n=int(input(\"Enter Age: \"))\n",
    "if (n<18 or n >100):\n",
    "    print(\"Age not valid\")\n",
    "else:\n",
    "    CheckMyTax(n)"
   ]
  },
  {
   "cell_type": "markdown",
   "metadata": {},
   "source": [
    "### Password Protection"
   ]
  },
  {
   "cell_type": "code",
   "execution_count": null,
   "metadata": {},
   "outputs": [],
   "source": [
    "The owner of a block layout has some plot numbers with odd numbers and some with even numbers. \n",
    "He is maintaining the details in a file in the system. \n",
    "For the password protection the owner has followed one formula. \n",
    "He calculated the sum of his even number plots and sum of odd number plots and\n",
    "found the average of those two and he used that average as his password for the file.  \n",
    "Write a Python program to arrive at the password for the file, by entering the plot numbers.\n",
    "\n",
    "Input and Output Format.\n",
    "\n",
    "Input consists of n+ 1 numbers. \n",
    "The first number corresponds to n which is the number of plots. \n",
    "The next 'n' numbers correspond to the plot numbers and \n",
    "these plot numbers can be integers or floats.\n",
    "\n",
    "Output consists of a floating point number that\n",
    " corresponds to the average. It is display with  2 decimal places. \n",
    " Assume that the maximum number of plots should not be greater than 20.\n",
    "\n",
    "Note:\n",
    "\n",
    "\n",
    "\t\n",
    "The size of the list should always be a positive number between 1 and 20.\n",
    "If not, display the message “Invalid Input” and terminate the program.\n",
    "\t\n",
    "While entering list elements,\n",
    "make sure that you enter positive values only. \n",
    "If not, it should print “Invalid Input” and terminate the program immediately.\n",
    "\t\n",
    "Use list comprehension for finding odd and even numbers.\n",
    "\n",
    "\n",
    " \n",
    "\n",
    "Sample Input 1:\n",
    "\n",
    "Enter the total no.of plots: 5\n",
    "\n",
    "Enter the numbers of each plot:\n",
    "\n",
    "1\n",
    "\n",
    "2\n",
    "\n",
    "3\n",
    "\n",
    "4\n",
    "\n",
    "5\n",
    "\n",
    "Sample Input 1:\n",
    "\n",
    "Enter the total no.of plots: 5\n",
    "\n",
    "Enter the numbers of each plot:\n",
    "\n",
    "1\n",
    "\n",
    "2\n",
    "\n",
    "3\n",
    "\n",
    "4\n",
    "\n",
    "5\n",
    "\n",
    "Sample Output 1:\n",
    "\n",
    "The password for the file is: 7.50\n",
    "    \n",
    "\n",
    "Sample Input 2:\n",
    "\n",
    "Enter the total no.of plots: -5\n",
    "\n",
    "Sample Output 2:\n",
    "\n",
    "Invalid Input\n",
    "\n",
    "Sample Input 3:\n",
    "\n",
    "Enter the total no.of plots: 5\n",
    "\n",
    "Enter the numbers of each plot:\n",
    "\n",
    "23\n",
    "\n",
    "2\n",
    "\n",
    "-5\n",
    "\n",
    " \n",
    "\n",
    "Sample Output 3:\n",
    "\n",
    "Invalid Input \n",
    "\n",
    "Sample Input 4:\n",
    "\n",
    "Enter the total no.of plots: 8\n",
    "\n",
    "Enter the numbers of each plot:\n",
    "\n",
    "10\n",
    "\n",
    "90\n",
    "\n",
    "5\n",
    "\n",
    "0\n",
    "\n",
    "Sample Output 4:\n",
    "\n",
    "Invalid Input\n",
    "\n",
    "Sample Input 5:\n",
    "\n",
    "Enter the total no.of plots: 21\n",
    "\n",
    "Sample Output 5:\n",
    "\n",
    "Invalid Input"
   ]
  },
  {
   "cell_type": "code",
   "execution_count": 2,
   "metadata": {},
   "outputs": [
    {
     "name": "stdout",
     "output_type": "stream",
     "text": [
      "Enter the total no.of plots: -2\n",
      "Invalid i/p\n"
     ]
    }
   ],
   "source": [
    "n=int(input(\"Enter the total no.of plots: \"))\n",
    "if (n>0):\n",
    "    plot=[float (input()) for i in range(0,n)]\n",
    "    eve=sum([i for i in plot if (i%2)==0 ])\n",
    "    odd=sum([i for i in plot if (i%2)!=0 ])\n",
    "    password=(eve/2)+(odd/2)\n",
    "    print(password)\n",
    "else:\n",
    "    print(\"Invalid i/p\")"
   ]
  },
  {
   "cell_type": "code",
   "execution_count": 24,
   "metadata": {},
   "outputs": [
    {
     "name": "stdout",
     "output_type": "stream",
     "text": [
      "Enter the total no.of plots: 5\n",
      "1\n",
      "2\n",
      "3\n",
      "4\n",
      "5\n",
      "The password for the file is:  7.5\n"
     ]
    }
   ],
   "source": [
    "import sys\n",
    "def iper(n):\n",
    "    plot=[]\n",
    "    for i in range(0,n):\n",
    "        elem=float(input())\n",
    "        if elem<0:\n",
    "            print(\"Invalid entry\")\n",
    "            sys.exit()\n",
    "        else:\n",
    "            plot.append(elem)\n",
    "           \n",
    "    return(passW(plot))\n",
    "\n",
    "def passW(plot):\n",
    "    eve=sum([i for i in plot if (i%2)==0 ])\n",
    "    od=sum([i for i in plot if (i%2)!=0 ])\n",
    "    password=float((eve/2)+(od/2))\n",
    "    print(\"The password for the file is: \",password)\n",
    "            \n",
    "n=int(input(\"Enter the total no.of plots: \"))\n",
    "if (n>0):\n",
    "    iper(n)\n",
    "else:\n",
    "    print('Plots cant be negative in number')"
   ]
  },
  {
   "cell_type": "markdown",
   "metadata": {},
   "source": [
    "# Day 2"
   ]
  },
  {
   "cell_type": "markdown",
   "metadata": {},
   "source": [
    "##### Task 1"
   ]
  },
  {
   "cell_type": "raw",
   "metadata": {},
   "source": [
    "Arrange Names\n",
    "\n",
    "Teachers of Horizon Academy Public School collect the names of those students who are going to participate in the Mathematics exhibition, that is to be held in a week's time.  They have collected all the names and now, they want to store all the names into a system, in the descending order of the length of the names.  This means, the longest name should get stored first, followed by the name that is shorter than the previous, and so on.   Can you help the teachers to perform this task easily by creating a program in Python?\n",
    "\n",
    "\n",
    "\n",
    "Note:  The number of names specified must be positive, else the program should display the message \"Invalid Input\" terminate the program.\n",
    "\n",
    "\n",
    "\n",
    "Input format:\n",
    "\n",
    "Input consists of an integer that corresponds to the number of names followed by the names.\n",
    "\n",
    "\n",
    "\n",
    "Output Format:\n",
    "\n",
    "Print the name list sorted by the names' length, if name length are equal sort based on alphabetical order in descending order as shown in the sample input and output.\n",
    "\n",
    "\n",
    "\n",
    "\n",
    "\n",
    "​[10:35 am] Poornamathi (Guest)\n",
    "    \n",
    "\n",
    "Sample Input 1:\n",
    "\n",
    "Enter the number of names :\n",
    "\n",
    "5\n",
    "\n",
    "Enter the names:\n",
    "\n",
    "William\n",
    "\n",
    "James\n",
    "\n",
    "Ella\n",
    "\n",
    "Lily\n",
    "\n",
    "Jackson\n",
    "\n",
    "\n",
    "\n",
    "Sample Output 1:\n",
    "\n",
    "The sorted name list is:\n",
    "\n",
    "William\n",
    "\n",
    "Jackson\n",
    "\n",
    "James\n",
    "\n",
    "Lily\n",
    "\n",
    "Ella\n",
    "\n",
    "\n",
    "\n",
    "Sample Input 2:\n",
    "\n",
    "Enter the number of names:\n",
    "\n",
    "-1\n",
    "\n",
    "\n",
    "\n",
    "Sample Output 2:\n",
    "\n",
    "Invalid Input\n",
    "\n",
    "\n",
    "\n",
    "\n",
    "\n",
    "Sample Input 3:\n",
    "\n",
    "Enter the number of names :\n",
    "\n",
    "3\n",
    "\n",
    "Enter the names:\n",
    "\n",
    "Lily\n",
    "\n",
    "Jack\n",
    "\n",
    "Lucy\n",
    "\n",
    "\n",
    "\n",
    "Sample Output 3:\n",
    "\n",
    "The sorted name list is:\n",
    "\n",
    "Lily\n",
    "\n",
    "Lucy\n",
    "\n",
    "Jack"
   ]
  },
  {
   "cell_type": "code",
   "execution_count": 36,
   "metadata": {},
   "outputs": [
    {
     "name": "stdout",
     "output_type": "stream",
     "text": [
      "Enter the Total Number of Students:3\n",
      "lily\n",
      "jack\n",
      "lucy\n",
      "The sorted name list is:  ['lucy', 'lily', 'jack']\n"
     ]
    }
   ],
   "source": [
    "def sorter(stuN):\n",
    "    m=[input() for i in range(stuN)]\n",
    "    m.sort(reverse = True)\n",
    "    print(\"The sorted name list is: \",m)\n",
    "    \n",
    "stuN=int(input(\"Enter the Total Number of Students:\"))\n",
    "if stuN<0:\n",
    "    print(\"Invalid Input\")\n",
    "else:\n",
    "    sorter(stuN)"
   ]
  },
  {
   "cell_type": "code",
   "execution_count": null,
   "metadata": {},
   "outputs": [],
   "source": []
  },
  {
   "cell_type": "markdown",
   "metadata": {},
   "source": [
    "## Task 2"
   ]
  },
  {
   "cell_type": "raw",
   "metadata": {},
   "source": [
    "Rhythm Composer\n",
    "Imagine D Iman, a famous music director to be composing a pop album. To create a unique composition, he decides to play only those keys of his instrument (consider every key has a number associated with it) which are divisible by one and itself (i.e. prime numbers). You may help him by writing a program in Python to print all the numbers that represent the keys he will need for his new composition - given the interval [start,end] (start and end inclusive) within which he chooses the keys. Write a user defined function to find out the key with prime numbers.\n",
    "Note:\n",
    "•\tIf start or end number is negative, then display the message \"Invalid range\".\n",
    "•\tIf there is not prime numbers between the starting and ending range, then display the message \"There is no prime numbers in this range\".\n",
    "•\tIf the start and end numbers are same, then display the message \"There is no prime numbers in this range\".\n",
    "•\tIf the start number is greater than end number, then display the message \"Invalid range\".\n",
    "•\tThe function definition should be : find_prime(start,end) - This function should take start and end number as parameters and return the prime numbers as a list.\n",
    "Refer the sample input and output statements for more clarifications.\n",
    "Sample Input 1:\n",
    "2\n",
    "11\n",
    "Sample Output 1:\n",
    "2 3 5 7 11\n",
    "Sample Input 2:\n",
    "3\n",
    "-10\n",
    "Sample Output 2:\n",
    "Invalid range\n",
    "Sample Input 3:\n",
    "0\n",
    "1\n",
    "Sample Output 3:\n",
    "There is no prime numbers in this range\n",
    "Sample Input 4:\n",
    "1\n",
    "1\n",
    "Sample Output 4:\n",
    "There is no prime numbers in this range\n",
    "Sample Input 5:\n",
    "1\n",
    "11\n",
    "Sample Output 5:\n",
    "2 3 5 7 11\n"
   ]
  },
  {
   "cell_type": "code",
   "execution_count": 25,
   "metadata": {},
   "outputs": [
    {
     "name": "stdout",
     "output_type": "stream",
     "text": [
      "Enter lower limit: 2\n",
      "Enter upper limit: 11\n",
      "2 3 5 7 11 "
     ]
    }
   ],
   "source": [
    "def find_prime(s1,s2):\n",
    "    keyCnt=0\n",
    "    for i in range(s1,s2+1):\n",
    "        if i>1:\n",
    "            for e in range (2,i):\n",
    "                if (i%e)==0:\n",
    "                    break\n",
    "            else:\n",
    "                print(i,end=' ')\n",
    "                keyCnt+=1\n",
    "    if keyCnt==0:\n",
    "        print(\"No keys\")\n",
    "        \n",
    "        \n",
    "s1=int(input(\"Enter lower limit: \"))\n",
    "s2=int(input(\"Enter upper limit: \"))\n",
    "\n",
    "if (s1<0) or (s2<0):\n",
    "    print(\"Invalid range\")\n",
    "elif (s1==s2):\n",
    "    print(\"No prime numbers int his range\")\n",
    "elif (s1>s2):\n",
    "    print(\"Invalid range\")\n",
    "else:\n",
    "    find_prime(s1,s2)      "
   ]
  },
  {
   "cell_type": "markdown",
   "metadata": {},
   "source": [
    "### OOPS"
   ]
  },
  {
   "cell_type": "code",
   "execution_count": 29,
   "metadata": {},
   "outputs": [
    {
     "name": "stdout",
     "output_type": "stream",
     "text": [
      "[2, 4, 6, 8]\n"
     ]
    }
   ],
   "source": [
    "l=[1,2,3,4]\n",
    "l1=list(map(lambda x:2*x,l))\n",
    "print(l1)"
   ]
  },
  {
   "cell_type": "code",
   "execution_count": 30,
   "metadata": {},
   "outputs": [
    {
     "name": "stdout",
     "output_type": "stream",
     "text": [
      "{'first': 'Numan', 'last': 'Shaikh', 'pay': 9000, 'email': 'NumanShaikh@test.com'}\n",
      "9000\n",
      "Numan Shaikh\n",
      "Numan Shaikh\n",
      "1.5\n",
      "1.5\n",
      "1.8\n",
      "None\n",
      "1\n"
     ]
    }
   ],
   "source": [
    "class Employee(object):\n",
    "    raise_amt=1.5\n",
    "    emp_cnt=0\n",
    "    def __init__(self,first,last,pay):\n",
    "        self.first= first\n",
    "        self.last= last\n",
    "        self.pay=pay\n",
    "        self.email=first+last+'@test.com'\n",
    "        Employee.emp_cnt+=1\n",
    "        \n",
    "    def fullname(self):\n",
    "        return ('{} {}'.format(self.first,self.last))\n",
    "    def apply_raise(self):\n",
    "        self.pay=int(self.pay * self.raise_amt)\n",
    "        \n",
    "emp1=Employee('Numan','Shaikh',9000)\n",
    "print(emp1.__dict__)\n",
    "print(emp1.pay)\n",
    "print(emp1.fullname())\n",
    "print(Employee.fullname(emp1))\n",
    "#############################\n",
    "print(emp1.raise_amt)\n",
    "print(Employee.raise_amt)\n",
    "emp1.raise_amt=1.8\n",
    "print(emp1.raise_amt)\n",
    "print(Employee.apply_raise(emp1))#note this \n",
    "print(Employee.emp_cnt)"
   ]
  },
  {
   "cell_type": "code",
   "execution_count": 31,
   "metadata": {},
   "outputs": [
    {
     "name": "stdout",
     "output_type": "stream",
     "text": [
      "The value of x is: 3\n",
      "y value is 5\n"
     ]
    }
   ],
   "source": [
    "#Self\n",
    "\n",
    "class Points:\n",
    "    def __init__(self,xcord,ycord):\n",
    "        self.x=xcord\n",
    "        self.y=ycord\n",
    "\n",
    "p=Points(3,5)\n",
    "m=p.x\n",
    "\n",
    "print(\"The value of x is: {}\".format(m))\n",
    "print(\"y value is\",p.y)"
   ]
  },
  {
   "cell_type": "code",
   "execution_count": null,
   "metadata": {},
   "outputs": [],
   "source": []
  }
 ],
 "metadata": {
  "kernelspec": {
   "display_name": "Python 3 (ipykernel)",
   "language": "python",
   "name": "python3"
  },
  "language_info": {
   "codemirror_mode": {
    "name": "ipython",
    "version": 3
   },
   "file_extension": ".py",
   "mimetype": "text/x-python",
   "name": "python",
   "nbconvert_exporter": "python",
   "pygments_lexer": "ipython3",
   "version": "3.10.10"
  }
 },
 "nbformat": 4,
 "nbformat_minor": 4
}
