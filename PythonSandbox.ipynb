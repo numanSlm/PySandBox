{
 "cells": [
  {
   "cell_type": "code",
   "execution_count": null,
   "metadata": {},
   "outputs": [],
   "source": [
    "================================================Python Sandbox=================================================================="
   ]
  },
  {
   "cell_type": "code",
   "execution_count": 20,
   "metadata": {},
   "outputs": [
    {
     "name": "stdout",
     "output_type": "stream",
     "text": [
      "Enter the number of rows:2\n",
      "Enter the number of columns:2\n",
      "Enter the values rowwise:\n",
      "Row No:1\n",
      "1\n",
      "2\n",
      " \n",
      "Row No:2\n",
      "3\n",
      "4\n",
      " \n",
      "the matrix is:\n",
      "1\t2\t\n",
      "3\t4\t\n"
     ]
    }
   ],
   "source": [
    "R = int(input(\"Enter the number of rows:\")) \n",
    "C = int(input(\"Enter the number of columns:\")) \n",
    "  \n",
    "# Initialize matrix \n",
    "matrix = [] \n",
    "print(\"Enter the values rowwise:\") \n",
    "  \n",
    "# For user input \n",
    "for i in range(R):\n",
    "    print(\"Row No:{}\".format(i+1))# A for loop for row entries \n",
    "    a =[] \n",
    "    for j in range(C):      # A for loop for column entries \n",
    "         a.append(int(input()))\n",
    "         \n",
    "    matrix.append(a)\n",
    "    print(\" \")\n",
    "  \n",
    "# For printing the matrix \n",
    "print(\"the matrix is:\")\n",
    "for i in range(R): \n",
    "    for j in range(C): \n",
    "        print(matrix[i][j], end =\"\\t\") \n",
    "    print()"
   ]
  },
  {
   "cell_type": "code",
   "execution_count": 12,
   "metadata": {},
   "outputs": [
    {
     "name": "stdout",
     "output_type": "stream",
     "text": [
      "Enter Size: 3\n",
      "1\n",
      "2\n",
      "3\n",
      "[1, 2, 3]\n"
     ]
    }
   ],
   "source": [
    "n=int(input(\"Enter Size: \"))\n",
    "m=[int(input()) for i in range(n)]\n",
    "/print m"
   ]
  },
  {
   "cell_type": "code",
   "execution_count": 16,
   "metadata": {},
   "outputs": [
    {
     "name": "stdout",
     "output_type": "stream",
     "text": [
      "1\n",
      "2\n",
      "34\n",
      "56\n",
      "78\n",
      "91\n"
     ]
    },
    {
     "data": {
      "text/plain": [
       "[[1, 2, 34], [56, 78, 91]]"
      ]
     },
     "execution_count": 16,
     "metadata": {},
     "output_type": "execute_result"
    }
   ],
   "source": [
    "m=2 #row\n",
    "n=3 #col\n",
    "x=[[int(input()) for i in range(n)]for i in range(m)]# outer loop = col\n",
    "x #row,col"
   ]
  },
  {
   "cell_type": "code",
   "execution_count": 27,
   "metadata": {},
   "outputs": [
    {
     "name": "stdout",
     "output_type": "stream",
     "text": [
      "12\n",
      "12\n",
      "13\n",
      "14\n",
      "\n",
      "[12, 12, 13, 14]\n"
     ]
    }
   ],
   "source": [
    "stack = []\n",
    "while True:\n",
    "    a =input()\n",
    "    if a== \"\":\n",
    "        break\n",
    "    stack.append(int(a))\n",
    "print(stack)"
   ]
  },
  {
   "cell_type": "code",
   "execution_count": 39,
   "metadata": {},
   "outputs": [
    {
     "name": "stdout",
     "output_type": "stream",
     "text": [
      "1 2 3 5\n",
      "(['1', '2', '3', '5'],)\n"
     ]
    }
   ],
   "source": [
    "def blind_inp(*args):\n",
    "        print(args)\n",
    "blind_inp(input().split(\" \"))"
   ]
  },
  {
   "cell_type": "markdown",
   "metadata": {},
   "source": [
    "tr"
   ]
  },
  {
   "cell_type": "code",
   "execution_count": 41,
   "metadata": {},
   "outputs": [
    {
     "name": "stdout",
     "output_type": "stream",
     "text": [
      "This is the name of the script:  C:\\Anaconda3\\lib\\site-packages\\ipykernel_launcher.py\n",
      "Number of arguments:  3\n",
      "The arguments are:  ['C:\\\\Anaconda3\\\\lib\\\\site-packages\\\\ipykernel_launcher.py', '-f', 'C:\\\\Users\\\\numan\\\\AppData\\\\Roaming\\\\jupyter\\\\runtime\\\\kernel-c1fa5943-0e28-4de2-8525-161d1a935c18.json']\n"
     ]
    }
   ],
   "source": [
    "#Arg program in Py\n",
    "import sys \n",
    "print (\"This is the name of the script: \", sys.argv[0]) \n",
    "print (\"Number of arguments: \", len(sys.argv))\n",
    "print (\"The arguments are: \" , str(sys.argv))"
   ]
  },
  {
   "cell_type": "code",
   "execution_count": null,
   "metadata": {},
   "outputs": [
    {
     "name": "stdout",
     "output_type": "stream",
     "text": [
      "1\n",
      "2\n",
      "andb\n",
      "invalid literal for int() with base 10: 'andb'\n"
     ]
    }
   ],
   "source": [
    "# using try and except\n",
    "stack=[]\n",
    "while True:\n",
    "    try:\n",
    "        a=input()\n",
    "        if a== \"\":\n",
    "            break\n",
    "        stack.append(int(a))\n",
    "    \n",
    "    except Exception as e:\n",
    "        print(e)\n",
    "print(stack)\n",
    "        "
   ]
  },
  {
   "cell_type": "markdown",
   "metadata": {},
   "source": [
    "## Very very IMP"
   ]
  },
  {
   "cell_type": "code",
   "execution_count": 1,
   "metadata": {},
   "outputs": [
    {
     "name": "stdout",
     "output_type": "stream",
     "text": [
      "GC\n",
      "CG\n"
     ]
    }
   ],
   "source": [
    "mapping = dict(\n",
    "  G='C',\n",
    "  C='G',\n",
    "  T='A',\n",
    "  A='U'\n",
    ")\n",
    "\n",
    "print(''.join([mapping[ch] for ch in input()]))"
   ]
  },
  {
   "cell_type": "code",
   "execution_count": 7,
   "metadata": {},
   "outputs": [
    {
     "name": "stdout",
     "output_type": "stream",
     "text": [
      "GC\n",
      "CG\n"
     ]
    }
   ],
   "source": [
    "b=input()\n",
    "a=\"GCTA\"\n",
    "c=\"CGAU\"\n",
    "output = \"\"\n",
    "for i in b:\n",
    "  output += c[a.index(i)]\n",
    "print(output)"
   ]
  },
  {
   "cell_type": "code",
   "execution_count": null,
   "metadata": {},
   "outputs": [],
   "source": [
    "=============================================================================================================================="
   ]
  },
  {
   "cell_type": "code",
   "execution_count": 34,
   "metadata": {},
   "outputs": [
    {
     "name": "stdout",
     "output_type": "stream",
     "text": [
      "{'first': 'Numan', 'last': 'Shaikh', 'pay': 9000, 'email': 'NumanShaikh@test.com'}\n",
      "9000\n",
      "Numan Shaikh\n",
      "Numan Shaikh\n",
      "1.5\n",
      "1.5\n",
      "1.8\n",
      "None\n",
      "1\n",
      "None\n"
     ]
    }
   ],
   "source": [
    "class Employee:\n",
    "    raise_amt=1.5\n",
    "    emp_cnt=0\n",
    "    def __init__(self,first,last,pay):\n",
    "        self.first= first\n",
    "        self.last= last\n",
    "        self.pay=pay\n",
    "        self.email=first+last+'@test.com'\n",
    "        Employee.emp_cnt+=1\n",
    "        \n",
    "    def fullname(self):\n",
    "        return ('{} {}'.format(self.first,self.last))\n",
    "    def apply_raise(self):\n",
    "        self.pay=int(self.pay * self.raise_amt)\n",
    "        \n",
    "emp1=Employee('Numan','Shaikh',9000)\n",
    "print(emp1.__dict__)\n",
    "print(emp1.pay)\n",
    "print(emp1.fullname())\n",
    "\n",
    "print(Employee.fullname(emp1))\n",
    "#############################\n",
    "print(emp1.raise_amt)\n",
    "print(Employee.raise_amt)\n",
    "emp1.raise_amt=1.8\n",
    "print(emp1.raise_amt)\n",
    "print(Employee.apply_raise(emp1))#note this \n",
    "print(Employee.emp_cnt)"
   ]
  },
  {
   "cell_type": "code",
   "execution_count": null,
   "metadata": {},
   "outputs": [],
   "source": [
    "#Package Tester\n",
    "import importlib.util\n",
    "package_name = 'quandl'\n",
    "\n",
    "spec = importlib.util.find_spec(package_name)\n",
    "if spec is None:\n",
    "    print(package_name +\" is not installed\")\n",
    "else:\n",
    "    print(\"Package is installed\")"
   ]
  },
  {
   "cell_type": "code",
   "execution_count": 18,
   "metadata": {},
   "outputs": [
    {
     "name": "stdout",
     "output_type": "stream",
     "text": [
      "The value of x is: 3\n",
      "5\n"
     ]
    }
   ],
   "source": [
    "#Self\n",
    "\n",
    "class Points:\n",
    "    def __init__(self,xcord,ycord):\n",
    "        self.x=xcord\n",
    "        self.y=ycord\n",
    "\n",
    "p=Points(3,5)\n",
    "m=p.x\n",
    "print(\"The value of x is: {}\".format(m))\n",
    "print(p.y)"
   ]
  },
  {
   "cell_type": "code",
   "execution_count": 3,
   "metadata": {},
   "outputs": [
    {
     "name": "stdout",
     "output_type": "stream",
     "text": [
      "Yes:\n"
     ]
    }
   ],
   "source": [
    "def function_1 (kot):\n",
    "     if kot == True:\n",
    "         print (\"Yes:\")\n",
    "     else:\n",
    "         print (\"NO:\")\n",
    "            \n",
    "function_1(True)"
   ]
  },
  {
   "cell_type": "code",
   "execution_count": 10,
   "metadata": {},
   "outputs": [
    {
     "name": "stdout",
     "output_type": "stream",
     "text": [
      "Yes:\n"
     ]
    }
   ],
   "source": [
    "def function_1 (kot=True):\n",
    "     if kot == True:\n",
    "         print (\"Yes:\")\n",
    "     else:\n",
    "         print (\"NO:\")\n",
    "            \n",
    "function_1()"
   ]
  },
  {
   "cell_type": "code",
   "execution_count": 11,
   "metadata": {},
   "outputs": [
    {
     "name": "stdout",
     "output_type": "stream",
     "text": [
      "Yes:\n"
     ]
    }
   ],
   "source": [
    "def function_1 (kot=True):\n",
    " if kot == True:\n",
    "     print (\"Yes:\")\n",
    " else:\n",
    "     print (\"NO:\")\n",
    "\n",
    "function_1()"
   ]
  },
  {
   "cell_type": "code",
   "execution_count": null,
   "metadata": {},
   "outputs": [],
   "source": [
    "-----------------------------------------------------------------------------------------------------------------"
   ]
  },
  {
   "cell_type": "code",
   "execution_count": 8,
   "metadata": {},
   "outputs": [
    {
     "name": "stdout",
     "output_type": "stream",
     "text": [
      "10 20 30 \n",
      "600 40\n"
     ]
    }
   ],
   "source": [
    "a,b,c=map(int,input().split())\n",
    "temp=a\n",
    "a=b\n",
    "b=temp\n",
    "\n",
    "a*=c\n",
    "b+=c\n",
    "print(a,b)"
   ]
  },
  {
   "cell_type": "code",
   "execution_count": null,
   "metadata": {},
   "outputs": [],
   "source": [
    "a=int(input())\n",
    "stack1=[]\n",
    "stack2=[]\n",
    "for i in range(0,a):\n",
    "    ele=input().split()\n",
    "    stack1.append(ele)\n",
    "for m in range(0,a):\n",
    "    val=input().split()\n",
    "    stack2.append(val)\n",
    "print(stack1)\n",
    "print(stack2)"
   ]
  },
  {
   "cell_type": "markdown",
   "metadata": {},
   "source": [
    "### Taking Specific Inputs"
   ]
  },
  {
   "cell_type": "code",
   "execution_count": 4,
   "metadata": {},
   "outputs": [
    {
     "name": "stdout",
     "output_type": "stream",
     "text": [
      "Enter number of elements : 3\n",
      "\n",
      "Enter the numbers : 1 3 4\n",
      "\n",
      "List is -  [1, 3, 4]\n"
     ]
    }
   ],
   "source": [
    "n = int(input(\"Enter number of elements : \")) \n",
    "  \n",
    "# Below line read inputs from user using map() function  \n",
    "a = list(map(int,input(\"\\nEnter the numbers : \").strip().split()))[:n] \n",
    "  \n",
    "print(\"\\nList is - \", a) "
   ]
  },
  {
   "cell_type": "code",
   "execution_count": 15,
   "metadata": {},
   "outputs": [
    {
     "name": "stdout",
     "output_type": "stream",
     "text": [
      "Enter you range of Input: 3\n",
      "1 2 3\n",
      "1\n",
      "3\n",
      "[1, 2, 3, 1, 3]\n"
     ]
    }
   ],
   "source": [
    "a=int(input(\"Enter you range of Input: \"))\n",
    "stack1=[]\n",
    "for i in range(0,a):\n",
    "    ele=map(int,input().split())\n",
    "    stack1.extend(ele)\n",
    "print(list(stack1))"
   ]
  },
  {
   "cell_type": "code",
   "execution_count": 15,
   "metadata": {},
   "outputs": [
    {
     "name": "stdout",
     "output_type": "stream",
     "text": [
      "3\n",
      "9\n",
      "8\n",
      "7\n"
     ]
    },
    {
     "data": {
      "text/plain": [
       "[9, 8, 7]"
      ]
     },
     "execution_count": 15,
     "metadata": {},
     "output_type": "execute_result"
    }
   ],
   "source": [
    "n = int(input())\n",
    "List = [ ] \n",
    "for i in range(n):\n",
    "    elem = int(input())\n",
    "    List.append ( elem )\n",
    "List"
   ]
  },
  {
   "cell_type": "code",
   "execution_count": 6,
   "metadata": {},
   "outputs": [
    {
     "data": {
      "text/plain": [
       "'Hello numan'"
      ]
     },
     "execution_count": 6,
     "metadata": {},
     "output_type": "execute_result"
    }
   ],
   "source": [
    "#annotations in py3\n",
    "def greeting(name: str) -> str:\n",
    "    return 'Hello ' + name           \n",
    "greeting(\"numan\")"
   ]
  },
  {
   "cell_type": "code",
   "execution_count": 15,
   "metadata": {},
   "outputs": [
    {
     "name": "stdout",
     "output_type": "stream",
     "text": [
      "0 : 2\n",
      "1 : 8\n",
      "2 : 12\n",
      "3 : 15\n",
      "{}\n",
      "{12: 2}\n"
     ]
    }
   ],
   "source": [
    "#enumeration\n",
    "seen={}\n",
    "nums=[2,8,12,15]\n",
    "for i, n in enumerate(nums):\n",
    "    print(i,\":\", n)\n",
    "print(seen)\n",
    "seen[12]=2\n",
    "print(seen)"
   ]
  },
  {
   "cell_type": "code",
   "execution_count": 8,
   "metadata": {},
   "outputs": [
    {
     "name": "stdout",
     "output_type": "stream",
     "text": [
      "[0, 1, 3, 4, 7, 9]\n"
     ]
    }
   ],
   "source": [
    "arr=[7,3,9,1,0,4]\n",
    "m=sorted(arr)\n",
    "print(m)"
   ]
  },
  {
   "cell_type": "code",
   "execution_count": 22,
   "metadata": {},
   "outputs": [
    {
     "name": "stdout",
     "output_type": "stream",
     "text": [
      "5\n",
      "4 1 5 3\n",
      "3\n"
     ]
    }
   ],
   "source": [
    "import math\n",
    "import os\n",
    "import random \n",
    "import re\n",
    "import sys\n",
    "\n",
    "def candles(n,arr):\n",
    "    m=sorted(arr)\n",
    "    \n",
    "    for i in enumerate(m):\n",
    "            return m[1]\n",
    "\n",
    "if __name__=='__main__':\n",
    "    n=int(input())\n",
    "    arr=(map(int,input().rstrip().split()))\n",
    "    print(candles(n,arr))"
   ]
  },
  {
   "cell_type": "code",
   "execution_count": 1,
   "metadata": {},
   "outputs": [
    {
     "name": "stdout",
     "output_type": "stream",
     "text": [
      "['Abbas', 'Kamran', 'Ali', 'Asgar', 'Usman', 'Hamza']\n"
     ]
    }
   ],
   "source": [
    "#map\n",
    "list1 = ['Abbas', 'Ali', 'Usman']\n",
    "list2 = ['Kamran', 'Asgar', 'Hamza', 'Umer']\n",
    "list3 = []\n",
    "for i,j in zip(list1,list2):\n",
    "    list3.append(i)\n",
    "    list3.append(j)\n",
    "print(list3)"
   ]
  },
  {
   "cell_type": "markdown",
   "metadata": {},
   "source": [
    "#### Dictionary functions :https://thispointer.com/python-how-to-sort-a-dictionary-by-key-or-value/"
   ]
  },
  {
   "cell_type": "code",
   "execution_count": 72,
   "metadata": {},
   "outputs": [
    {
     "name": "stdout",
     "output_type": "stream",
     "text": [
      "21241\n",
      "Counter({'2': 2, '1': 2, '4': 1})\n"
     ]
    }
   ],
   "source": [
    "from collections import Counter\n",
    "\n",
    "def flowers(arr):\n",
    "    cnt=Counter()\n",
    "    for i in arr:\n",
    "        cnt[i]+=1\n",
    "    return cnt\n",
    "if __name__=='__main__':\n",
    "    arr=str(input())\n",
    "    print(flowers(arr))"
   ]
  },
  {
   "cell_type": "code",
   "execution_count": 4,
   "metadata": {},
   "outputs": [
    {
     "name": "stdout",
     "output_type": "stream",
     "text": [
      "{'a': 1, 'b': 10, 'c': 11}\n"
     ]
    }
   ],
   "source": [
    "x = {'a': 1, 'b': 2}\n",
    "y = {'b': 10, 'c': 11}\n",
    "z={**x,**y}\n",
    "print(z)"
   ]
  },
  {
   "cell_type": "code",
   "execution_count": 13,
   "metadata": {},
   "outputs": [
    {
     "name": "stdout",
     "output_type": "stream",
     "text": [
      "Counter({'b': 12, 'c': 11, 'a': 1})\n"
     ]
    }
   ],
   "source": [
    "from collections import Counter\n",
    "x = Counter({'a': 1, 'b': 2})\n",
    "y = Counter({'b': 10, 'c': 11})\n",
    "z=x+y\n",
    "print(z)"
   ]
  },
  {
   "cell_type": "markdown",
   "metadata": {},
   "source": [
    "#### map and zip\n"
   ]
  },
  {
   "cell_type": "markdown",
   "metadata": {},
   "source": [
    "#### https://www.geeksforgeeks.org/zip-in-python/\n",
    "#### https://www.geeksforgeeks.org/python-map-function/"
   ]
  },
  {
   "cell_type": "code",
   "execution_count": 18,
   "metadata": {},
   "outputs": [
    {
     "name": "stdout",
     "output_type": "stream",
     "text": [
      "[11, 22, 33, 44, 55]\n"
     ]
    }
   ],
   "source": [
    "#zip\n",
    "list1=[1,2,3,4,5]\n",
    "list2=[10,20,30,40,50,60]\n",
    "\n",
    "x=[sum(i) for i in zip(list1,list2)]\n",
    "print(x)"
   ]
  },
  {
   "cell_type": "code",
   "execution_count": 33,
   "metadata": {},
   "outputs": [
    {
     "name": "stdout",
     "output_type": "stream",
     "text": [
      "[11, 22, 33, 44, 55]\n"
     ]
    }
   ],
   "source": [
    "#map\n",
    "from operator import add\n",
    "list1=[1,2,3,4,5]\n",
    "list2=[10,20,30,40,50,60]\n",
    "\n",
    "rez=list(map(add,list1,list2))\n",
    "print(rez)"
   ]
  },
  {
   "cell_type": "code",
   "execution_count": 37,
   "metadata": {},
   "outputs": [
    {
     "name": "stdout",
     "output_type": "stream",
     "text": [
      "5 6\n",
      "x is 5\n",
      "y is 6\n"
     ]
    }
   ],
   "source": [
    "x, y = map(int,input().split()) \n",
    "print(\"x is\",x)\n",
    "print(\"y is\",y)"
   ]
  },
  {
   "cell_type": "code",
   "execution_count": 34,
   "metadata": {},
   "outputs": [
    {
     "name": "stdout",
     "output_type": "stream",
     "text": [
      "[11, 22, 33, 44, 55]\n"
     ]
    }
   ],
   "source": [
    "#list comprehension add 2 lists\n",
    "list1=[1,2,3,4,5]\n",
    "list2=[10,20,30,40,50,60]\n",
    "\n",
    "result=[list1[i]+list2[i] for i in range(len(list1))]\n",
    "print(result)"
   ]
  },
  {
   "cell_type": "code",
   "execution_count": 39,
   "metadata": {},
   "outputs": [
    {
     "name": "stdout",
     "output_type": "stream",
     "text": [
      "[('Manjeet', 4, 40), ('Nikhil', 1, 50), ('Shambhavi', 3, 60), ('Astha', 2, 70)]\n"
     ]
    }
   ],
   "source": [
    "name = [ \"Manjeet\", \"Nikhil\", \"Shambhavi\", \"Astha\" ] \n",
    "roll_no = [ 4, 1, 3, 2 ] \n",
    "marks = [ 40, 50, 60, 70 ] \n",
    "  \n",
    "# using zip() to map values \n",
    "mapped = zip(name, roll_no, marks)\n",
    "print(list(mapped))"
   ]
  },
  {
   "cell_type": "code",
   "execution_count": 45,
   "metadata": {},
   "outputs": [
    {
     "name": "stdout",
     "output_type": "stream",
     "text": [
      "['at', 'hello', 'test', 'this']\n"
     ]
    }
   ],
   "source": [
    "wordDict = {\n",
    "    \"hello\": 56,\n",
    "    \"at\" : 23 ,\n",
    "    \"test\" : 43,\n",
    "    \"this\" : 43\n",
    "    }\n",
    "tester=sorted(wordDict.keys())\n",
    "print(tester)"
   ]
  },
  {
   "cell_type": "code",
   "execution_count": 3,
   "metadata": {},
   "outputs": [
    {
     "name": "stdout",
     "output_type": "stream",
     "text": [
      "116\n",
      "t\n"
     ]
    }
   ],
   "source": [
    "a=int(input())\n",
    "m=chr(a)\n",
    "print(m)"
   ]
  },
  {
   "cell_type": "code",
   "execution_count": 11,
   "metadata": {},
   "outputs": [
    {
     "name": "stdout",
     "output_type": "stream",
     "text": [
      "r\n",
      "e\n"
     ]
    }
   ],
   "source": [
    "import codecs\n",
    "a=input()\n",
    "m=codecs.encode(a,'rot13')\n",
    "print(m)"
   ]
  },
  {
   "cell_type": "code",
   "execution_count": 35,
   "metadata": {
    "scrolled": true
   },
   "outputs": [
    {
     "name": "stdout",
     "output_type": "stream",
     "text": [
      "[1, 2, 23, 45, 78]\n"
     ]
    }
   ],
   "source": [
    "wordDict = {23,78,1,23,45,2}\n",
    "unique=[]\n",
    "for ele in wordDict:\n",
    "    if ele not in unique:\n",
    "        unique.append(ele)\n",
    "print(sorted(unique))"
   ]
  },
  {
   "cell_type": "code",
   "execution_count": 26,
   "metadata": {},
   "outputs": [
    {
     "name": "stdout",
     "output_type": "stream",
     "text": [
      "[1, 2, 23, 45, 78]\n",
      "5\n"
     ]
    }
   ],
   "source": [
    "wordDict = {23,78,1,23,45,2}\n",
    "print(sorted(set(wordDict)))\n",
    "print(len(wordDict))"
   ]
  },
  {
   "cell_type": "code",
   "execution_count": 25,
   "metadata": {},
   "outputs": [
    {
     "name": "stdout",
     "output_type": "stream",
     "text": [
      "ni\n",
      "ha\n",
      "4600\n",
      "23.0 INR\n"
     ]
    }
   ],
   "source": [
    "def fare(start,end):\n",
    "    stop =['TH', 'GA', 'IC', 'HA', 'TE', 'LU', 'NI', 'CA']\n",
    "    path = [800, 600, 750, 900, 1400, 1200, 1100, 1500]\n",
    "    sum=0\n",
    "    res=0\n",
    "    if(start==end):\n",
    "        return(\"Invalid Input\")\n",
    "    else:\n",
    "        s=start.upper()\n",
    "        e=end.upper()\n",
    "        mini=min(stop.index(s),stop.index(e))\n",
    "        maxi=max(stop.index(s),stop.index(e))\n",
    "    \n",
    "        for i in range(mini,maxi+1):\n",
    "            sum=sum+path[i]\n",
    "        print(sum)\n",
    "        res=(sum/1000)*5\n",
    "        res=str(res)\n",
    "    \n",
    "        return(res+' INR')\n",
    "\n",
    "start=input()\n",
    "end=input()\n",
    "print(fare(start,end))"
   ]
  },
  {
   "cell_type": "code",
   "execution_count": null,
   "metadata": {},
   "outputs": [],
   "source": []
  },
  {
   "cell_type": "code",
   "execution_count": 34,
   "metadata": {},
   "outputs": [
    {
     "name": "stdout",
     "output_type": "stream",
     "text": [
      "2\n",
      "2\n",
      "10\n",
      "10\n",
      "10\n",
      "10\n",
      "600.0\n"
     ]
    }
   ],
   "source": [
    "inw=int(input())\n",
    "exw=int(input())\n",
    "fpi=18\n",
    "fpe=12\n",
    "cost=0\n",
    "if inw<0 or exw<0:\n",
    "    print(\"Invalid\")\n",
    "elif(inw==0 and exw ==0):\n",
    "    print(\"Total cost = \",cost)\n",
    "else:\n",
    "    for i in range (inw):\n",
    "        temp= float(input())\n",
    "        cost+=(temp)*fpi\n",
    "    \n",
    "    for i in range (exw):\n",
    "        temp=float(input())\n",
    "        cost+=(temp)*fpe\n",
    "    \n",
    "    print(cost)\n",
    "\n"
   ]
  },
  {
   "cell_type": "markdown",
   "metadata": {},
   "source": [
    " "
   ]
  },
  {
   "cell_type": "code",
   "execution_count": 29,
   "metadata": {
    "scrolled": true
   },
   "outputs": [
    {
     "name": "stdout",
     "output_type": "stream",
     "text": [
      "1234567890 0987654321 7898765673 87978v6789 98765b6545\n"
     ]
    },
    {
     "data": {
      "text/plain": [
       "'Input limit is 5'"
      ]
     },
     "execution_count": 29,
     "metadata": {},
     "output_type": "execute_result"
    }
   ],
   "source": [
    "def stringer():\n",
    "    result=[]\n",
    "    while True:\n",
    "        mob_num=str(input()).strip()\n",
    "        if mob_num==\"Q\" or \"q\":\n",
    "            break\n",
    "        result.append(mob_num)\n",
    "    if len(result)!=5:\n",
    "        return(\"Input limit is 5\")\n",
    "    cnt=0\n",
    "    for mob_num in result:\n",
    "        if len(mob_num)==10 and mob_num.isnumeric:\n",
    "            cnt+=1\n",
    "    return cnt\n",
    "stringer()"
   ]
  },
  {
   "cell_type": "code",
   "execution_count": 17,
   "metadata": {},
   "outputs": [],
   "source": [
    "%magic"
   ]
  },
  {
   "cell_type": "code",
   "execution_count": 2,
   "metadata": {},
   "outputs": [
    {
     "name": "stdout",
     "output_type": "stream",
     "text": [
      "['[']\n",
      "['[', '(']\n"
     ]
    },
    {
     "data": {
      "text/plain": [
       "True"
      ]
     },
     "execution_count": 2,
     "metadata": {},
     "output_type": "execute_result"
    }
   ],
   "source": [
    "class Solution:\n",
    "    def isValid(self, s):\n",
    "        stack = []\n",
    "        dct = {\"]\":\"[\", \"}\":\"{\", \")\":\"(\"}\n",
    "        for char in s:\n",
    "            if char in dct.values():\n",
    "                stack.append(char)\n",
    "                print(stack)\n",
    "            elif char in dct.keys():\n",
    "                if stack == []:\n",
    "                    return False\n",
    "                elif dct[char] != stack.pop():\n",
    "                    return False\n",
    "            else:\n",
    "                return False\n",
    "        return stack == []\n",
    "    \n",
    "m=Solution()\n",
    "s=\"[()]\"\n",
    "m.isValid(s)"
   ]
  },
  {
   "cell_type": "code",
   "execution_count": 2,
   "metadata": {},
   "outputs": [
    {
     "data": {
      "text/plain": [
       "(2, [1, 2])"
      ]
     },
     "execution_count": 2,
     "metadata": {},
     "output_type": "execute_result"
    }
   ],
   "source": [
    "#not in place\n",
    "class Solution:\n",
    "    def removeDuplicates(self, nums):\n",
    "        nums=sorted(set(nums))\n",
    "        return len(nums),nums\n",
    "lst=[1,1,2]\n",
    "sot=Solution()\n",
    "sot.removeDuplicates(lst)"
   ]
  },
  {
   "cell_type": "code",
   "execution_count": 39,
   "metadata": {},
   "outputs": [
    {
     "name": "stdout",
     "output_type": "stream",
     "text": [
      "[('e', 3), ('l', 1), ('t', 1), ('c', 1), ('o', 1), ('d', 1)]\n"
     ]
    },
    {
     "data": {
      "text/plain": [
       "3"
      ]
     },
     "execution_count": 39,
     "metadata": {},
     "output_type": "execute_result"
    }
   ],
   "source": [
    "class Solution:\n",
    "    def maxPower(self, s: str) -> int:\n",
    "        from collections import Counter\n",
    "        c=Counter(s)\n",
    "        maxx=c.most_common()\n",
    "        print(maxx)\n",
    "        return maxx[0][1]\n",
    "s='leetcode'\n",
    "pew=Solution()\n",
    "pew.maxPower(s)"
   ]
  },
  {
   "cell_type": "code",
   "execution_count": 3,
   "metadata": {},
   "outputs": [],
   "source": [
    "class Solution:\n",
    "    def canFormArray(self, arr: 'List[int]', pieces: 'List[List[int]]') -> bool:\n",
    "        \n",
    "        pass\n",
    "arr=[91,4,64,74]\n",
    "pieces=[[74],[4,64],[91]]\n",
    "cnct=Solution()\n",
    "cnct.canFormArray(arr,pieces)"
   ]
  },
  {
   "cell_type": "code",
   "execution_count": 2,
   "metadata": {},
   "outputs": [
    {
     "data": {
      "text/plain": [
       "['one', 2, 3, 'Four', 'Pointer1']"
      ]
     },
     "execution_count": 2,
     "metadata": {},
     "output_type": "execute_result"
    }
   ],
   "source": [
    "p1=\"Pointer1\"\n",
    "lst=[\"one\",2,3,\"Four\",p1]\n",
    "lst"
   ]
  },
  {
   "cell_type": "code",
   "execution_count": 19,
   "metadata": {},
   "outputs": [
    {
     "name": "stdout",
     "output_type": "stream",
     "text": [
      "4\n",
      "1 2 3 4\n",
      "1 \n",
      "23\n",
      "4\n"
     ]
    },
    {
     "data": {
      "text/plain": [
       "[['1', '2', '3', '4'], ['1', ''], ['23'], ['4']]"
      ]
     },
     "execution_count": 19,
     "metadata": {},
     "output_type": "execute_result"
    }
   ],
   "source": [
    "n=int(input())\n",
    "m=[(input().split(\" \")) for i in range(n)]\n",
    "m"
   ]
  },
  {
   "cell_type": "code",
   "execution_count": 20,
   "metadata": {},
   "outputs": [
    {
     "name": "stdout",
     "output_type": "stream",
     "text": [
      "Enter the size of the list 3\n",
      "\n",
      "\n",
      "Enter the list numbers separated by space 1 2 3\n",
      "User List:  [1, 2, 3]\n"
     ]
    }
   ],
   "source": [
    "n = int(input(\"Enter the size of the list \"))\n",
    "numList = list(int(num) for num in input(\"Enter the list numbers separated by space \").strip().split())[:n]\n",
    "print(\"User List: \", numList)"
   ]
  },
  {
   "cell_type": "markdown",
   "metadata": {},
   "source": [
    "### validating Inputs"
   ]
  },
  {
   "cell_type": "code",
   "execution_count": 42,
   "metadata": {},
   "outputs": [
    {
     "name": "stdout",
     "output_type": "stream",
     "text": [
      "12\n",
      "InValid\n"
     ]
    }
   ],
   "source": [
    "inp=input()\n",
    "if type(inp)!=int or inp not in list(range(1,11)):\n",
    "    print(\"InValid\")\n",
    "else:\n",
    "    print(\"Valid\")"
   ]
  },
  {
   "cell_type": "code",
   "execution_count": 33,
   "metadata": {},
   "outputs": [
    {
     "name": "stdout",
     "output_type": "stream",
     "text": [
      "[1, 2, 2, 3, 3, 4, 5, 5, 6]\n",
      "5\n"
     ]
    }
   ],
   "source": [
    "arr=[3,2,3,1,2,4,5,5,6]\n",
    "k=3 #3rd largest\n",
    "rez=sorted(arr)\n",
    "print(rez)\n",
    "print(rez[-k])"
   ]
  },
  {
   "cell_type": "markdown",
   "metadata": {},
   "source": [
    "### Coin Problem TCS"
   ]
  },
  {
   "cell_type": "code",
   "execution_count": 1,
   "metadata": {},
   "outputs": [
    {
     "name": "stdout",
     "output_type": "stream",
     "text": [
      "[0, 1, 1, 1, 2, 2, 2, 3, 3, 3, 4, 4, 4, 5]\n",
      "Minimum coins required is  5\n"
     ]
    }
   ],
   "source": [
    "import sys  \n",
    "  \n",
    "# m is size of coins array (number ofdifferent coins) \n",
    "def minCoins(coins, m, V): \n",
    "      \n",
    "    # table[i] will be storing the minimum  \n",
    "    # number of coins required for i value.  \n",
    "    # So table[V] will have result \n",
    "    table = [0 for i in range(V + 1)]\n",
    "  \n",
    "    # Base case (If given value V is 0) \n",
    "    table[0] = 0\n",
    "  \n",
    "    # Initialize all table values as Infinite \n",
    "    for i in range(1, V + 1): \n",
    "        table[i] = sys.maxsize \n",
    "    # Compute minimum coins required for all values from 1 to V \n",
    "    for i in range(1, V + 1): \n",
    "          \n",
    "        # Go through all coins smaller than i \n",
    "        for j in range(m): \n",
    "            if (coins[j] <= i): \n",
    "                sub_res = table[i - coins[j]] \n",
    "                if (sub_res != sys.maxsize and \n",
    "                    sub_res + 1 < table[i]): \n",
    "                    table[i] = sub_res + 1\n",
    "    print(table)\n",
    "    return table[V]  \n",
    "if __name__ == \"__main__\": \n",
    "    coins = [1,3,2]\n",
    "    m = len(coins) \n",
    "    V = 13\n",
    "    print(\"Minimum coins required is \", minCoins(coins, m, V)) "
   ]
  },
  {
   "cell_type": "markdown",
   "metadata": {},
   "source": [
    "### TCS Digital prob no.2"
   ]
  },
  {
   "cell_type": "code",
   "execution_count": 13,
   "metadata": {},
   "outputs": [
    {
     "name": "stdout",
     "output_type": "stream",
     "text": [
      "4\n",
      "100\n",
      "400\n",
      "300\n",
      "250\n",
      "100 250\n"
     ]
    }
   ],
   "source": [
    "n=int(input())\n",
    "route=[]\n",
    "if n<2:\n",
    "    print(\"Invalid\")\n",
    "else:\n",
    "    for i in range(n):\n",
    "        a=int(input())\n",
    "        route.append(a)\n",
    "\n",
    "sort_route=sorted(route)\n",
    "\n",
    "for i in sort_route:\n",
    "    if sort_route[0]==sort_route[1]:\n",
    "        print(\"Equal\")\n",
    "    else:\n",
    "        print(sort_route[0],sort_route[1])\n",
    "        break"
   ]
  },
  {
   "cell_type": "code",
   "execution_count": null,
   "metadata": {},
   "outputs": [],
   "source": []
  }
 ],
 "metadata": {
  "kernelspec": {
   "display_name": "Python 3",
   "language": "python",
   "name": "python3"
  },
  "language_info": {
   "codemirror_mode": {
    "name": "ipython",
    "version": 3
   },
   "file_extension": ".py",
   "mimetype": "text/x-python",
   "name": "python",
   "nbconvert_exporter": "python",
   "pygments_lexer": "ipython3",
   "version": "3.7.6"
  }
 },
 "nbformat": 4,
 "nbformat_minor": 4
}
