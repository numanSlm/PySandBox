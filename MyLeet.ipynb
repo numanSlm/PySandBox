{
 "cells": [
  {
   "cell_type": "code",
   "execution_count": null,
   "id": "e9679239-e8b2-4251-a175-9bc7d1f23ac0",
   "metadata": {},
   "outputs": [],
   "source": [
    "RBC Code Signal Solutions"
   ]
  },
  {
   "cell_type": "code",
   "execution_count": null,
   "id": "ce0ff473-3c28-4fdc-99e7-51e8d545fc9e",
   "metadata": {},
   "outputs": [],
   "source": []
  },
  {
   "cell_type": "code",
   "execution_count": 21,
   "id": "2f1e7cc6-5602-4ec0-b005-5b407dd295fc",
   "metadata": {},
   "outputs": [
    {
     "name": "stdout",
     "output_type": "stream",
     "text": [
      "smaller\n"
     ]
    }
   ],
   "source": [
    "def solution(numbers, pivot):\n",
    "    countGreater = 0\n",
    "    countLess = 0\n",
    "    \n",
    "    for num in numbers:\n",
    "        if num > pivot:\n",
    "            countGreater += 1\n",
    "        elif num < pivot:\n",
    "            countLess += 1\n",
    "\n",
    "    if countGreater > countLess:\n",
    "        return \"greater\"\n",
    "    elif countGreater < countLess:\n",
    "        return \"smaller\"\n",
    "    else:\n",
    "        return \"tie\"\n",
    "\n",
    "numbers=[1,3,0,-1,1,4,3]\n",
    "pivot=2\n",
    "print(solution(numbers,pivot))\n",
    "#compare with pivot and return if countgreater is bigger than countLess by comparing the num of ele"
   ]
  },
  {
   "cell_type": "code",
   "execution_count": 19,
   "id": "8b1d5964-97c9-4b83-9c71-00285d9b550b",
   "metadata": {},
   "outputs": [
    {
     "name": "stdout",
     "output_type": "stream",
     "text": [
      "The count of cyclic pairs is: 5\n"
     ]
    }
   ],
   "source": [
    "def count_cyclic_pairs(arr):\n",
    "    count = 0\n",
    "    cyclic_pairs = set()\n",
    "\n",
    "    for i in range(len(arr)):\n",
    "        A = arr[i]\n",
    "        s1 = str(arr[i])\n",
    "        \n",
    "        for j in range(len(arr)):\n",
    "            if i != j:  # Avoid comparing the same number with itself\n",
    "                B = arr[j]\n",
    "                s2 = str(B)\n",
    "                \n",
    "                for k in range(len(s2)):\n",
    "                    first = s2[0]\n",
    "                    s2 = s2[1:]\n",
    "                    s2 += first\n",
    "                    \n",
    "                    if s1 == s2:\n",
    "                        cyclic_pair = tuple(sorted([A, B]))\n",
    "                        cyclic_pairs.add(cyclic_pair)\n",
    "\n",
    "    count = len(cyclic_pairs)\n",
    "    return count\n",
    "\n",
    "# Example usage with an array\n",
    "arr = [13, 5604, 31, 2, 13, 4560, 546, 654, 546]\n",
    "result = count_cyclic_pairs(arr)\n",
    "\n",
    "print(f\"The count of cyclic pairs is: {result}\")\n"
   ]
  },
  {
   "cell_type": "code",
   "execution_count": null,
   "id": "d41d9e41-a6b9-4790-be6f-064be9a810d3",
   "metadata": {},
   "outputs": [],
   "source": [
    "given an array of integers distribute them in two arrarys first and second"
   ]
  },
  {
   "cell_type": "code",
   "execution_count": 45,
   "id": "56ea01c7-8cbc-487d-88f1-8b166bc0359f",
   "metadata": {},
   "outputs": [
    {
     "name": "stdout",
     "output_type": "stream",
     "text": [
      "[5, 9, 7, 6, 2]\n"
     ]
    }
   ],
   "source": [
    "def solution(numbers):\n",
    "    first = [numbers[0]]\n",
    "    second = [numbers[1]]\n",
    "\n",
    "    for i in range(2, len(numbers)):\n",
    "        if numbers[i] > max(first[-1], second[-1]):\n",
    "            if len(first) >= len(second):\n",
    "                second.append(numbers[i])\n",
    "            else:\n",
    "                first.append(numbers[i])\n",
    "        elif numbers[i] == max(first[-1], second[-1]):\n",
    "            if len(first) <= len(second):\n",
    "                first.append(numbers[i])\n",
    "            else:\n",
    "                second.append(numbers[i])\n",
    "        else:\n",
    "            if len(first) >= len(second):\n",
    "                second.append(numbers[i])\n",
    "            else:\n",
    "                first.append(numbers[i])\n",
    "\n",
    "    result = first + second\n",
    "    return result\n",
    "\n",
    "numbers = [5, 7, 6, 9, 2]\n",
    "print(solution(numbers))"
   ]
  },
  {
   "cell_type": "code",
   "execution_count": 2,
   "id": "e8c03df6-f13a-4c7b-bc3c-4b56c538328f",
   "metadata": {},
   "outputs": [
    {
     "name": "stdout",
     "output_type": "stream",
     "text": [
      "The missing numbers are: [3, 5]\n"
     ]
    }
   ],
   "source": [
    "def find_missing_numbers(nums):\n",
    "    n = max(nums)\n",
    "    expected_set = set(range(1, n ))\n",
    "    # Create a set of the numbers in the array\n",
    "    actual_set = set(nums)\n",
    "    # Find the missing numbers\n",
    "    missing_numbers = list(expected_set - actual_set)\n",
    "\n",
    "    return missing_numbers\n",
    "\n",
    "# Example usage:\n",
    "arr = [1, 2, 4, 6, 7, 8]\n",
    "result = find_missing_numbers(arr)\n",
    "print(f\"The missing numbers are: {result}\")\n"
   ]
  },
  {
   "cell_type": "code",
   "execution_count": 4,
   "id": "a5086b11-c317-4d98-b949-6396319b76ae",
   "metadata": {},
   "outputs": [
    {
     "name": "stdout",
     "output_type": "stream",
     "text": [
      "4\n",
      "1\n"
     ]
    }
   ],
   "source": [
    "import bisect\n",
    "def index(a, x):\n",
    "    i = bisect.bisect_left(a, x)\n",
    "    return i\n",
    "    \n",
    "a = [1,2,4,5]\n",
    "print(index(a, 6))\n",
    "print(index(a, 2))"
   ]
  },
  {
   "cell_type": "code",
   "execution_count": 9,
   "id": "5aefa0bd-ae76-4750-b51e-99e7367980bf",
   "metadata": {},
   "outputs": [
    {
     "name": "stdout",
     "output_type": "stream",
     "text": [
      "2012 1000\n",
      "2\n",
      "12\n",
      "2 2\n",
      "1\n",
      "0\n",
      "12 12\n",
      "1\n",
      "0\n",
      "Two Thousand Twelve\n"
     ]
    }
   ],
   "source": [
    "class Solution:\n",
    "    def numberToWords(self, num: int) -> str:\n",
    "        mapping = {\n",
    "          1000000000: 'Billion',\n",
    "          1000000: 'Million',\n",
    "          1000: 'Thousand',\n",
    "          100: 'Hundred',\n",
    "          90: 'Ninety',\n",
    "          80: 'Eighty',\n",
    "          70: 'Seventy',\n",
    "          60: 'Sixty',\n",
    "          50: 'Fifty',\n",
    "          40: 'Forty',\n",
    "          30: 'Thirty',\n",
    "          20: 'Twenty',\n",
    "          19: 'Nineteen',\n",
    "          18: 'Eighteen',\n",
    "          17: 'Seventeen',\n",
    "          16: 'Sixteen',\n",
    "          15: 'Fifteen',\n",
    "          14: 'Fourteen',\n",
    "          13: 'Thirteen',\n",
    "          12: 'Twelve',\n",
    "          11: 'Eleven',\n",
    "          10: 'Ten',\n",
    "          9: 'Nine',\n",
    "          8: 'Eight',\n",
    "          7: 'Seven',\n",
    "          6: 'Six',\n",
    "          5: 'Five',\n",
    "          4: 'Four',\n",
    "          3: 'Three',\n",
    "          2: 'Two',\n",
    "          1: 'One'\n",
    "        }\n",
    "        if num==0:\n",
    "            return \"Zero\"\n",
    "        result=\"\"\n",
    "        \n",
    "        for value, name in mapping.items():\n",
    "            count=0\n",
    "            if num>=value:\n",
    "               print(num,value)\n",
    "               count=num//value\n",
    "               print(count)\n",
    "               num%=value\n",
    "               print(num)\n",
    "               if count>1 or value>=100:\n",
    "                   result= result+\" \"+self.numberToWords(count)+\" \"+name\n",
    "               else:\n",
    "                   result+=\" \"+name\n",
    "        result=result[1:]\n",
    "        return result\n",
    "mysol= Solution()\n",
    "print(mysol.numberToWords(2012))"
   ]
  },
  {
   "cell_type": "code",
   "execution_count": null,
   "id": "e861bc22-0a19-4dc9-b066-3990dcab89bd",
   "metadata": {},
   "outputs": [],
   "source": []
  }
 ],
 "metadata": {
  "kernelspec": {
   "display_name": "Python 3 (ipykernel)",
   "language": "python",
   "name": "python3"
  },
  "language_info": {
   "codemirror_mode": {
    "name": "ipython",
    "version": 3
   },
   "file_extension": ".py",
   "mimetype": "text/x-python",
   "name": "python",
   "nbconvert_exporter": "python",
   "pygments_lexer": "ipython3",
   "version": "3.10.10"
  }
 },
 "nbformat": 4,
 "nbformat_minor": 5
}
