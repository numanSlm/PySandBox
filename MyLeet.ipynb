{
 "cells": [
  {
   "cell_type": "code",
   "execution_count": null,
   "id": "e9679239-e8b2-4251-a175-9bc7d1f23ac0",
   "metadata": {},
   "outputs": [],
   "source": [
    "RBC Code Signal Solutions"
   ]
  },
  {
   "cell_type": "code",
   "execution_count": 21,
   "id": "2f1e7cc6-5602-4ec0-b005-5b407dd295fc",
   "metadata": {},
   "outputs": [
    {
     "name": "stdout",
     "output_type": "stream",
     "text": [
      "smaller\n"
     ]
    }
   ],
   "source": [
    "def solution(numbers, pivot):\n",
    "    countGreater = 0\n",
    "    countLess = 0\n",
    "    \n",
    "    for num in numbers:\n",
    "        if num > pivot:\n",
    "            countGreater += 1\n",
    "        elif num < pivot:\n",
    "            countLess += 1\n",
    "\n",
    "    if countGreater > countLess:\n",
    "        return \"greater\"\n",
    "    elif countGreater < countLess:\n",
    "        return \"smaller\"\n",
    "    else:\n",
    "        return \"tie\"\n",
    "\n",
    "numbers=[1,3,0,-1,1,4,3]\n",
    "pivot=2\n",
    "print(solution(numbers,pivot))\n",
    "#compare with pivot and return if countgreater is bigger than countLess by comparing the num of ele"
   ]
  },
  {
   "cell_type": "code",
   "execution_count": 19,
   "id": "8b1d5964-97c9-4b83-9c71-00285d9b550b",
   "metadata": {},
   "outputs": [
    {
     "name": "stdout",
     "output_type": "stream",
     "text": [
      "The count of cyclic pairs is: 5\n"
     ]
    }
   ],
   "source": [
    "def count_cyclic_pairs(arr):\n",
    "    count = 0\n",
    "    cyclic_pairs = set()\n",
    "\n",
    "    for i in range(len(arr)):\n",
    "        A = arr[i]\n",
    "        s1 = str(arr[i])\n",
    "        \n",
    "        for j in range(len(arr)):\n",
    "            if i != j:  # Avoid comparing the same number with itself\n",
    "                B = arr[j]\n",
    "                s2 = str(B)\n",
    "                \n",
    "                for k in range(len(s2)):\n",
    "                    first = s2[0]\n",
    "                    s2 = s2[1:]\n",
    "                    s2 += first\n",
    "                    \n",
    "                    if s1 == s2:\n",
    "                        cyclic_pair = tuple(sorted([A, B]))\n",
    "                        cyclic_pairs.add(cyclic_pair)\n",
    "\n",
    "    count = len(cyclic_pairs)\n",
    "    return count\n",
    "\n",
    "# Example usage with an array\n",
    "arr = [13, 5604, 31, 2, 13, 4560, 546, 654, 546]\n",
    "result = count_cyclic_pairs(arr)\n",
    "\n",
    "print(f\"The count of cyclic pairs is: {result}\")\n"
   ]
  },
  {
   "cell_type": "code",
   "execution_count": null,
   "id": "d41d9e41-a6b9-4790-be6f-064be9a810d3",
   "metadata": {},
   "outputs": [],
   "source": [
    "given an array of integers distribute them in two arrarys first and second"
   ]
  },
  {
   "cell_type": "code",
   "execution_count": 45,
   "id": "56ea01c7-8cbc-487d-88f1-8b166bc0359f",
   "metadata": {},
   "outputs": [
    {
     "name": "stdout",
     "output_type": "stream",
     "text": [
      "[5, 9, 7, 6, 2]\n"
     ]
    }
   ],
   "source": [
    "def solution(numbers):\n",
    "    first = [numbers[0]]\n",
    "    second = [numbers[1]]\n",
    "\n",
    "    for i in range(2, len(numbers)):\n",
    "        if numbers[i] > max(first[-1], second[-1]):\n",
    "            if len(first) >= len(second):\n",
    "                second.append(numbers[i])\n",
    "            else:\n",
    "                first.append(numbers[i])\n",
    "        elif numbers[i] == max(first[-1], second[-1]):\n",
    "            if len(first) <= len(second):\n",
    "                first.append(numbers[i])\n",
    "            else:\n",
    "                second.append(numbers[i])\n",
    "        else:\n",
    "            if len(first) >= len(second):\n",
    "                second.append(numbers[i])\n",
    "            else:\n",
    "                first.append(numbers[i])\n",
    "\n",
    "    result = first + second\n",
    "    return result\n",
    "\n",
    "numbers = [5, 7, 6, 9, 2]\n",
    "print(solution(numbers))"
   ]
  }
 ],
 "metadata": {
  "kernelspec": {
   "display_name": "Python 3 (ipykernel)",
   "language": "python",
   "name": "python3"
  },
  "language_info": {
   "codemirror_mode": {
    "name": "ipython",
    "version": 3
   },
   "file_extension": ".py",
   "mimetype": "text/x-python",
   "name": "python",
   "nbconvert_exporter": "python",
   "pygments_lexer": "ipython3",
   "version": "3.10.10"
  }
 },
 "nbformat": 4,
 "nbformat_minor": 5
}
